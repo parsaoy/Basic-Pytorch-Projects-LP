{
 "cells": [
  {
   "cell_type": "code",
   "execution_count": 1,
   "id": "f504c4c9-e61e-484e-a898-c35c7741da3b",
   "metadata": {},
   "outputs": [],
   "source": [
    "import torch\n",
    "import torch.nn as nn\n",
    "import torch.nn.functional as F\n",
    "\n",
    "import pandas as pd\n",
    "import matplotlib.pyplot as plt"
   ]
  },
  {
   "cell_type": "markdown",
   "id": "c1188a50-33f9-49a5-bf0a-daaa9b1e0c8e",
   "metadata": {},
   "source": [
    "## Building the Model Class"
   ]
  },
  {
   "cell_type": "code",
   "execution_count": 2,
   "id": "3eec1638-935c-49d9-b618-4f8822b35571",
   "metadata": {},
   "outputs": [],
   "source": [
    "# Create a Model class that inherits nn.Module\n",
    "# Object Oriented Programming (OOP), not Functional Programming\n",
    "class Model(nn.Module):\n",
    "    # Input Layer (4 Feature of the Iris flower) -->\n",
    "    # Hidden Layer 1 (8 neurons) -->\n",
    "    # Hidden Layer 2 (9 neurons) -->\n",
    "    # Output Layer (3 classes of Iris flower).\n",
    "    def __init__ (self, in_features=4, h1=8, h2=9, out_features=3):\n",
    "        super().__init__()  # instantiate our nn.Module\n",
    "        \n",
    "        self.fc1 = nn.Linear(in_features, h1)\n",
    "        self.fc2 = nn.Linear(h1, h2)\n",
    "        self.out = nn.Linear(h2, out_features)\n",
    "\n",
    "    def forward(self, X):\n",
    "        X = F.relu(self.fc1(X))\n",
    "        X = F.relu(self.fc2(X))\n",
    "        X = self.out(X)\n",
    "\n",
    "        return X"
   ]
  },
  {
   "cell_type": "code",
   "execution_count": 3,
   "id": "9213d2e3-c029-4687-87a0-7c8911e8c2e6",
   "metadata": {},
   "outputs": [],
   "source": [
    "# Pick a manual seed for randomization\n",
    "torch.manual_seed(42)\n",
    "\n",
    "# Create an instance of model\n",
    "model = Model()"
   ]
  },
  {
   "cell_type": "markdown",
   "id": "6a7b0843-9e7d-4f2b-b735-e91a77d42c94",
   "metadata": {},
   "source": [
    "## Loading Iris Dataset from Gist"
   ]
  },
  {
   "cell_type": "code",
   "execution_count": 4,
   "id": "62825aa5-8dc3-4992-9b42-3fd88ed64f57",
   "metadata": {},
   "outputs": [],
   "source": [
    "# Loading the dataset as a data frame\n",
    "url = 'https://gist.githubusercontent.com/netj/8836201/raw/6f9306ad21398ea43cba4f7d537619d0e07d5ae3/iris.csv'\n",
    "my_df = pd.read_csv(url)"
   ]
  },
  {
   "cell_type": "code",
   "execution_count": 5,
   "id": "19244c23-363c-4fe8-9c5b-24f7349dc387",
   "metadata": {},
   "outputs": [
    {
     "data": {
      "text/html": [
       "<div>\n",
       "<style scoped>\n",
       "    .dataframe tbody tr th:only-of-type {\n",
       "        vertical-align: middle;\n",
       "    }\n",
       "\n",
       "    .dataframe tbody tr th {\n",
       "        vertical-align: top;\n",
       "    }\n",
       "\n",
       "    .dataframe thead th {\n",
       "        text-align: right;\n",
       "    }\n",
       "</style>\n",
       "<table border=\"1\" class=\"dataframe\">\n",
       "  <thead>\n",
       "    <tr style=\"text-align: right;\">\n",
       "      <th></th>\n",
       "      <th>sepal.length</th>\n",
       "      <th>sepal.width</th>\n",
       "      <th>petal.length</th>\n",
       "      <th>petal.width</th>\n",
       "      <th>variety</th>\n",
       "    </tr>\n",
       "  </thead>\n",
       "  <tbody>\n",
       "    <tr>\n",
       "      <th>145</th>\n",
       "      <td>6.7</td>\n",
       "      <td>3.0</td>\n",
       "      <td>5.2</td>\n",
       "      <td>2.3</td>\n",
       "      <td>Virginica</td>\n",
       "    </tr>\n",
       "    <tr>\n",
       "      <th>146</th>\n",
       "      <td>6.3</td>\n",
       "      <td>2.5</td>\n",
       "      <td>5.0</td>\n",
       "      <td>1.9</td>\n",
       "      <td>Virginica</td>\n",
       "    </tr>\n",
       "    <tr>\n",
       "      <th>147</th>\n",
       "      <td>6.5</td>\n",
       "      <td>3.0</td>\n",
       "      <td>5.2</td>\n",
       "      <td>2.0</td>\n",
       "      <td>Virginica</td>\n",
       "    </tr>\n",
       "    <tr>\n",
       "      <th>148</th>\n",
       "      <td>6.2</td>\n",
       "      <td>3.4</td>\n",
       "      <td>5.4</td>\n",
       "      <td>2.3</td>\n",
       "      <td>Virginica</td>\n",
       "    </tr>\n",
       "    <tr>\n",
       "      <th>149</th>\n",
       "      <td>5.9</td>\n",
       "      <td>3.0</td>\n",
       "      <td>5.1</td>\n",
       "      <td>1.8</td>\n",
       "      <td>Virginica</td>\n",
       "    </tr>\n",
       "  </tbody>\n",
       "</table>\n",
       "</div>"
      ],
      "text/plain": [
       "     sepal.length  sepal.width  petal.length  petal.width    variety\n",
       "145           6.7          3.0           5.2          2.3  Virginica\n",
       "146           6.3          2.5           5.0          1.9  Virginica\n",
       "147           6.5          3.0           5.2          2.0  Virginica\n",
       "148           6.2          3.4           5.4          2.3  Virginica\n",
       "149           5.9          3.0           5.1          1.8  Virginica"
      ]
     },
     "execution_count": 5,
     "metadata": {},
     "output_type": "execute_result"
    }
   ],
   "source": [
    "my_df.tail()"
   ]
  },
  {
   "cell_type": "code",
   "execution_count": 6,
   "id": "d15e9cb6-d135-4d5e-9c3b-c870de971510",
   "metadata": {},
   "outputs": [
    {
     "data": {
      "text/html": [
       "<div>\n",
       "<style scoped>\n",
       "    .dataframe tbody tr th:only-of-type {\n",
       "        vertical-align: middle;\n",
       "    }\n",
       "\n",
       "    .dataframe tbody tr th {\n",
       "        vertical-align: top;\n",
       "    }\n",
       "\n",
       "    .dataframe thead th {\n",
       "        text-align: right;\n",
       "    }\n",
       "</style>\n",
       "<table border=\"1\" class=\"dataframe\">\n",
       "  <thead>\n",
       "    <tr style=\"text-align: right;\">\n",
       "      <th></th>\n",
       "      <th>sepal.length</th>\n",
       "      <th>sepal.width</th>\n",
       "      <th>petal.length</th>\n",
       "      <th>petal.width</th>\n",
       "      <th>variety</th>\n",
       "    </tr>\n",
       "  </thead>\n",
       "  <tbody>\n",
       "    <tr>\n",
       "      <th>0</th>\n",
       "      <td>5.1</td>\n",
       "      <td>3.5</td>\n",
       "      <td>1.4</td>\n",
       "      <td>0.2</td>\n",
       "      <td>0</td>\n",
       "    </tr>\n",
       "    <tr>\n",
       "      <th>1</th>\n",
       "      <td>4.9</td>\n",
       "      <td>3.0</td>\n",
       "      <td>1.4</td>\n",
       "      <td>0.2</td>\n",
       "      <td>0</td>\n",
       "    </tr>\n",
       "    <tr>\n",
       "      <th>2</th>\n",
       "      <td>4.7</td>\n",
       "      <td>3.2</td>\n",
       "      <td>1.3</td>\n",
       "      <td>0.2</td>\n",
       "      <td>0</td>\n",
       "    </tr>\n",
       "    <tr>\n",
       "      <th>3</th>\n",
       "      <td>4.6</td>\n",
       "      <td>3.1</td>\n",
       "      <td>1.5</td>\n",
       "      <td>0.2</td>\n",
       "      <td>0</td>\n",
       "    </tr>\n",
       "    <tr>\n",
       "      <th>4</th>\n",
       "      <td>5.0</td>\n",
       "      <td>3.6</td>\n",
       "      <td>1.4</td>\n",
       "      <td>0.2</td>\n",
       "      <td>0</td>\n",
       "    </tr>\n",
       "    <tr>\n",
       "      <th>...</th>\n",
       "      <td>...</td>\n",
       "      <td>...</td>\n",
       "      <td>...</td>\n",
       "      <td>...</td>\n",
       "      <td>...</td>\n",
       "    </tr>\n",
       "    <tr>\n",
       "      <th>145</th>\n",
       "      <td>6.7</td>\n",
       "      <td>3.0</td>\n",
       "      <td>5.2</td>\n",
       "      <td>2.3</td>\n",
       "      <td>2</td>\n",
       "    </tr>\n",
       "    <tr>\n",
       "      <th>146</th>\n",
       "      <td>6.3</td>\n",
       "      <td>2.5</td>\n",
       "      <td>5.0</td>\n",
       "      <td>1.9</td>\n",
       "      <td>2</td>\n",
       "    </tr>\n",
       "    <tr>\n",
       "      <th>147</th>\n",
       "      <td>6.5</td>\n",
       "      <td>3.0</td>\n",
       "      <td>5.2</td>\n",
       "      <td>2.0</td>\n",
       "      <td>2</td>\n",
       "    </tr>\n",
       "    <tr>\n",
       "      <th>148</th>\n",
       "      <td>6.2</td>\n",
       "      <td>3.4</td>\n",
       "      <td>5.4</td>\n",
       "      <td>2.3</td>\n",
       "      <td>2</td>\n",
       "    </tr>\n",
       "    <tr>\n",
       "      <th>149</th>\n",
       "      <td>5.9</td>\n",
       "      <td>3.0</td>\n",
       "      <td>5.1</td>\n",
       "      <td>1.8</td>\n",
       "      <td>2</td>\n",
       "    </tr>\n",
       "  </tbody>\n",
       "</table>\n",
       "<p>150 rows × 5 columns</p>\n",
       "</div>"
      ],
      "text/plain": [
       "     sepal.length  sepal.width  petal.length  petal.width  variety\n",
       "0             5.1          3.5           1.4          0.2        0\n",
       "1             4.9          3.0           1.4          0.2        0\n",
       "2             4.7          3.2           1.3          0.2        0\n",
       "3             4.6          3.1           1.5          0.2        0\n",
       "4             5.0          3.6           1.4          0.2        0\n",
       "..            ...          ...           ...          ...      ...\n",
       "145           6.7          3.0           5.2          2.3        2\n",
       "146           6.3          2.5           5.0          1.9        2\n",
       "147           6.5          3.0           5.2          2.0        2\n",
       "148           6.2          3.4           5.4          2.3        2\n",
       "149           5.9          3.0           5.1          1.8        2\n",
       "\n",
       "[150 rows x 5 columns]"
      ]
     },
     "execution_count": 6,
     "metadata": {},
     "output_type": "execute_result"
    }
   ],
   "source": [
    "# Mapping each variety to a unique integer\n",
    "my_df['variety'] = my_df['variety'].map({'Setosa': 0, 'Versicolor': 1, 'Virginica': 2})\n",
    "\n",
    "my_df"
   ]
  },
  {
   "cell_type": "code",
   "execution_count": 7,
   "id": "f5f74de9-93f4-4966-9ce4-62e35b687380",
   "metadata": {},
   "outputs": [],
   "source": [
    "# Train Test Split -> determine X, y\n",
    "X = my_df.drop('variety', axis=1)\n",
    "y = my_df['variety']"
   ]
  },
  {
   "cell_type": "code",
   "execution_count": 8,
   "id": "a4ac7019-44be-486d-aa79-cac5fd0bf324",
   "metadata": {},
   "outputs": [
    {
     "data": {
      "text/html": [
       "<div>\n",
       "<style scoped>\n",
       "    .dataframe tbody tr th:only-of-type {\n",
       "        vertical-align: middle;\n",
       "    }\n",
       "\n",
       "    .dataframe tbody tr th {\n",
       "        vertical-align: top;\n",
       "    }\n",
       "\n",
       "    .dataframe thead th {\n",
       "        text-align: right;\n",
       "    }\n",
       "</style>\n",
       "<table border=\"1\" class=\"dataframe\">\n",
       "  <thead>\n",
       "    <tr style=\"text-align: right;\">\n",
       "      <th></th>\n",
       "      <th>sepal.length</th>\n",
       "      <th>sepal.width</th>\n",
       "      <th>petal.length</th>\n",
       "      <th>petal.width</th>\n",
       "    </tr>\n",
       "  </thead>\n",
       "  <tbody>\n",
       "    <tr>\n",
       "      <th>0</th>\n",
       "      <td>5.1</td>\n",
       "      <td>3.5</td>\n",
       "      <td>1.4</td>\n",
       "      <td>0.2</td>\n",
       "    </tr>\n",
       "    <tr>\n",
       "      <th>1</th>\n",
       "      <td>4.9</td>\n",
       "      <td>3.0</td>\n",
       "      <td>1.4</td>\n",
       "      <td>0.2</td>\n",
       "    </tr>\n",
       "    <tr>\n",
       "      <th>2</th>\n",
       "      <td>4.7</td>\n",
       "      <td>3.2</td>\n",
       "      <td>1.3</td>\n",
       "      <td>0.2</td>\n",
       "    </tr>\n",
       "    <tr>\n",
       "      <th>3</th>\n",
       "      <td>4.6</td>\n",
       "      <td>3.1</td>\n",
       "      <td>1.5</td>\n",
       "      <td>0.2</td>\n",
       "    </tr>\n",
       "    <tr>\n",
       "      <th>4</th>\n",
       "      <td>5.0</td>\n",
       "      <td>3.6</td>\n",
       "      <td>1.4</td>\n",
       "      <td>0.2</td>\n",
       "    </tr>\n",
       "    <tr>\n",
       "      <th>...</th>\n",
       "      <td>...</td>\n",
       "      <td>...</td>\n",
       "      <td>...</td>\n",
       "      <td>...</td>\n",
       "    </tr>\n",
       "    <tr>\n",
       "      <th>145</th>\n",
       "      <td>6.7</td>\n",
       "      <td>3.0</td>\n",
       "      <td>5.2</td>\n",
       "      <td>2.3</td>\n",
       "    </tr>\n",
       "    <tr>\n",
       "      <th>146</th>\n",
       "      <td>6.3</td>\n",
       "      <td>2.5</td>\n",
       "      <td>5.0</td>\n",
       "      <td>1.9</td>\n",
       "    </tr>\n",
       "    <tr>\n",
       "      <th>147</th>\n",
       "      <td>6.5</td>\n",
       "      <td>3.0</td>\n",
       "      <td>5.2</td>\n",
       "      <td>2.0</td>\n",
       "    </tr>\n",
       "    <tr>\n",
       "      <th>148</th>\n",
       "      <td>6.2</td>\n",
       "      <td>3.4</td>\n",
       "      <td>5.4</td>\n",
       "      <td>2.3</td>\n",
       "    </tr>\n",
       "    <tr>\n",
       "      <th>149</th>\n",
       "      <td>5.9</td>\n",
       "      <td>3.0</td>\n",
       "      <td>5.1</td>\n",
       "      <td>1.8</td>\n",
       "    </tr>\n",
       "  </tbody>\n",
       "</table>\n",
       "<p>150 rows × 4 columns</p>\n",
       "</div>"
      ],
      "text/plain": [
       "     sepal.length  sepal.width  petal.length  petal.width\n",
       "0             5.1          3.5           1.4          0.2\n",
       "1             4.9          3.0           1.4          0.2\n",
       "2             4.7          3.2           1.3          0.2\n",
       "3             4.6          3.1           1.5          0.2\n",
       "4             5.0          3.6           1.4          0.2\n",
       "..            ...          ...           ...          ...\n",
       "145           6.7          3.0           5.2          2.3\n",
       "146           6.3          2.5           5.0          1.9\n",
       "147           6.5          3.0           5.2          2.0\n",
       "148           6.2          3.4           5.4          2.3\n",
       "149           5.9          3.0           5.1          1.8\n",
       "\n",
       "[150 rows x 4 columns]"
      ]
     },
     "execution_count": 8,
     "metadata": {},
     "output_type": "execute_result"
    }
   ],
   "source": [
    "X"
   ]
  },
  {
   "cell_type": "code",
   "execution_count": 9,
   "id": "4ebb5511-37cc-47bc-a415-181d4763e626",
   "metadata": {},
   "outputs": [
    {
     "data": {
      "text/plain": [
       "0      0\n",
       "1      0\n",
       "2      0\n",
       "3      0\n",
       "4      0\n",
       "      ..\n",
       "145    2\n",
       "146    2\n",
       "147    2\n",
       "148    2\n",
       "149    2\n",
       "Name: variety, Length: 150, dtype: int64"
      ]
     },
     "execution_count": 9,
     "metadata": {},
     "output_type": "execute_result"
    }
   ],
   "source": [
    "y"
   ]
  },
  {
   "cell_type": "code",
   "execution_count": 10,
   "id": "1230c721-ec7d-428a-8a44-4a730ef7ff9a",
   "metadata": {},
   "outputs": [],
   "source": [
    "# Convert to numpy representations\n",
    "X = X.values\n",
    "y = y.values"
   ]
  },
  {
   "cell_type": "code",
   "execution_count": 11,
   "id": "6871f58e-c20f-462a-bc8d-ea2bd59f638d",
   "metadata": {},
   "outputs": [
    {
     "data": {
      "text/plain": [
       "(array([[5.1, 3.5, 1.4, 0.2],\n",
       "        [4.9, 3. , 1.4, 0.2],\n",
       "        [4.7, 3.2, 1.3, 0.2],\n",
       "        [4.6, 3.1, 1.5, 0.2],\n",
       "        [5. , 3.6, 1.4, 0.2],\n",
       "        [5.4, 3.9, 1.7, 0.4],\n",
       "        [4.6, 3.4, 1.4, 0.3],\n",
       "        [5. , 3.4, 1.5, 0.2],\n",
       "        [4.4, 2.9, 1.4, 0.2],\n",
       "        [4.9, 3.1, 1.5, 0.1],\n",
       "        [5.4, 3.7, 1.5, 0.2],\n",
       "        [4.8, 3.4, 1.6, 0.2],\n",
       "        [4.8, 3. , 1.4, 0.1],\n",
       "        [4.3, 3. , 1.1, 0.1],\n",
       "        [5.8, 4. , 1.2, 0.2],\n",
       "        [5.7, 4.4, 1.5, 0.4],\n",
       "        [5.4, 3.9, 1.3, 0.4],\n",
       "        [5.1, 3.5, 1.4, 0.3],\n",
       "        [5.7, 3.8, 1.7, 0.3],\n",
       "        [5.1, 3.8, 1.5, 0.3],\n",
       "        [5.4, 3.4, 1.7, 0.2],\n",
       "        [5.1, 3.7, 1.5, 0.4],\n",
       "        [4.6, 3.6, 1. , 0.2],\n",
       "        [5.1, 3.3, 1.7, 0.5],\n",
       "        [4.8, 3.4, 1.9, 0.2],\n",
       "        [5. , 3. , 1.6, 0.2],\n",
       "        [5. , 3.4, 1.6, 0.4],\n",
       "        [5.2, 3.5, 1.5, 0.2],\n",
       "        [5.2, 3.4, 1.4, 0.2],\n",
       "        [4.7, 3.2, 1.6, 0.2],\n",
       "        [4.8, 3.1, 1.6, 0.2],\n",
       "        [5.4, 3.4, 1.5, 0.4],\n",
       "        [5.2, 4.1, 1.5, 0.1],\n",
       "        [5.5, 4.2, 1.4, 0.2],\n",
       "        [4.9, 3.1, 1.5, 0.2],\n",
       "        [5. , 3.2, 1.2, 0.2],\n",
       "        [5.5, 3.5, 1.3, 0.2],\n",
       "        [4.9, 3.6, 1.4, 0.1],\n",
       "        [4.4, 3. , 1.3, 0.2],\n",
       "        [5.1, 3.4, 1.5, 0.2],\n",
       "        [5. , 3.5, 1.3, 0.3],\n",
       "        [4.5, 2.3, 1.3, 0.3],\n",
       "        [4.4, 3.2, 1.3, 0.2],\n",
       "        [5. , 3.5, 1.6, 0.6],\n",
       "        [5.1, 3.8, 1.9, 0.4],\n",
       "        [4.8, 3. , 1.4, 0.3],\n",
       "        [5.1, 3.8, 1.6, 0.2],\n",
       "        [4.6, 3.2, 1.4, 0.2],\n",
       "        [5.3, 3.7, 1.5, 0.2],\n",
       "        [5. , 3.3, 1.4, 0.2],\n",
       "        [7. , 3.2, 4.7, 1.4],\n",
       "        [6.4, 3.2, 4.5, 1.5],\n",
       "        [6.9, 3.1, 4.9, 1.5],\n",
       "        [5.5, 2.3, 4. , 1.3],\n",
       "        [6.5, 2.8, 4.6, 1.5],\n",
       "        [5.7, 2.8, 4.5, 1.3],\n",
       "        [6.3, 3.3, 4.7, 1.6],\n",
       "        [4.9, 2.4, 3.3, 1. ],\n",
       "        [6.6, 2.9, 4.6, 1.3],\n",
       "        [5.2, 2.7, 3.9, 1.4],\n",
       "        [5. , 2. , 3.5, 1. ],\n",
       "        [5.9, 3. , 4.2, 1.5],\n",
       "        [6. , 2.2, 4. , 1. ],\n",
       "        [6.1, 2.9, 4.7, 1.4],\n",
       "        [5.6, 2.9, 3.6, 1.3],\n",
       "        [6.7, 3.1, 4.4, 1.4],\n",
       "        [5.6, 3. , 4.5, 1.5],\n",
       "        [5.8, 2.7, 4.1, 1. ],\n",
       "        [6.2, 2.2, 4.5, 1.5],\n",
       "        [5.6, 2.5, 3.9, 1.1],\n",
       "        [5.9, 3.2, 4.8, 1.8],\n",
       "        [6.1, 2.8, 4. , 1.3],\n",
       "        [6.3, 2.5, 4.9, 1.5],\n",
       "        [6.1, 2.8, 4.7, 1.2],\n",
       "        [6.4, 2.9, 4.3, 1.3],\n",
       "        [6.6, 3. , 4.4, 1.4],\n",
       "        [6.8, 2.8, 4.8, 1.4],\n",
       "        [6.7, 3. , 5. , 1.7],\n",
       "        [6. , 2.9, 4.5, 1.5],\n",
       "        [5.7, 2.6, 3.5, 1. ],\n",
       "        [5.5, 2.4, 3.8, 1.1],\n",
       "        [5.5, 2.4, 3.7, 1. ],\n",
       "        [5.8, 2.7, 3.9, 1.2],\n",
       "        [6. , 2.7, 5.1, 1.6],\n",
       "        [5.4, 3. , 4.5, 1.5],\n",
       "        [6. , 3.4, 4.5, 1.6],\n",
       "        [6.7, 3.1, 4.7, 1.5],\n",
       "        [6.3, 2.3, 4.4, 1.3],\n",
       "        [5.6, 3. , 4.1, 1.3],\n",
       "        [5.5, 2.5, 4. , 1.3],\n",
       "        [5.5, 2.6, 4.4, 1.2],\n",
       "        [6.1, 3. , 4.6, 1.4],\n",
       "        [5.8, 2.6, 4. , 1.2],\n",
       "        [5. , 2.3, 3.3, 1. ],\n",
       "        [5.6, 2.7, 4.2, 1.3],\n",
       "        [5.7, 3. , 4.2, 1.2],\n",
       "        [5.7, 2.9, 4.2, 1.3],\n",
       "        [6.2, 2.9, 4.3, 1.3],\n",
       "        [5.1, 2.5, 3. , 1.1],\n",
       "        [5.7, 2.8, 4.1, 1.3],\n",
       "        [6.3, 3.3, 6. , 2.5],\n",
       "        [5.8, 2.7, 5.1, 1.9],\n",
       "        [7.1, 3. , 5.9, 2.1],\n",
       "        [6.3, 2.9, 5.6, 1.8],\n",
       "        [6.5, 3. , 5.8, 2.2],\n",
       "        [7.6, 3. , 6.6, 2.1],\n",
       "        [4.9, 2.5, 4.5, 1.7],\n",
       "        [7.3, 2.9, 6.3, 1.8],\n",
       "        [6.7, 2.5, 5.8, 1.8],\n",
       "        [7.2, 3.6, 6.1, 2.5],\n",
       "        [6.5, 3.2, 5.1, 2. ],\n",
       "        [6.4, 2.7, 5.3, 1.9],\n",
       "        [6.8, 3. , 5.5, 2.1],\n",
       "        [5.7, 2.5, 5. , 2. ],\n",
       "        [5.8, 2.8, 5.1, 2.4],\n",
       "        [6.4, 3.2, 5.3, 2.3],\n",
       "        [6.5, 3. , 5.5, 1.8],\n",
       "        [7.7, 3.8, 6.7, 2.2],\n",
       "        [7.7, 2.6, 6.9, 2.3],\n",
       "        [6. , 2.2, 5. , 1.5],\n",
       "        [6.9, 3.2, 5.7, 2.3],\n",
       "        [5.6, 2.8, 4.9, 2. ],\n",
       "        [7.7, 2.8, 6.7, 2. ],\n",
       "        [6.3, 2.7, 4.9, 1.8],\n",
       "        [6.7, 3.3, 5.7, 2.1],\n",
       "        [7.2, 3.2, 6. , 1.8],\n",
       "        [6.2, 2.8, 4.8, 1.8],\n",
       "        [6.1, 3. , 4.9, 1.8],\n",
       "        [6.4, 2.8, 5.6, 2.1],\n",
       "        [7.2, 3. , 5.8, 1.6],\n",
       "        [7.4, 2.8, 6.1, 1.9],\n",
       "        [7.9, 3.8, 6.4, 2. ],\n",
       "        [6.4, 2.8, 5.6, 2.2],\n",
       "        [6.3, 2.8, 5.1, 1.5],\n",
       "        [6.1, 2.6, 5.6, 1.4],\n",
       "        [7.7, 3. , 6.1, 2.3],\n",
       "        [6.3, 3.4, 5.6, 2.4],\n",
       "        [6.4, 3.1, 5.5, 1.8],\n",
       "        [6. , 3. , 4.8, 1.8],\n",
       "        [6.9, 3.1, 5.4, 2.1],\n",
       "        [6.7, 3.1, 5.6, 2.4],\n",
       "        [6.9, 3.1, 5.1, 2.3],\n",
       "        [5.8, 2.7, 5.1, 1.9],\n",
       "        [6.8, 3.2, 5.9, 2.3],\n",
       "        [6.7, 3.3, 5.7, 2.5],\n",
       "        [6.7, 3. , 5.2, 2.3],\n",
       "        [6.3, 2.5, 5. , 1.9],\n",
       "        [6.5, 3. , 5.2, 2. ],\n",
       "        [6.2, 3.4, 5.4, 2.3],\n",
       "        [5.9, 3. , 5.1, 1.8]]),\n",
       " array([0, 0, 0, 0, 0, 0, 0, 0, 0, 0, 0, 0, 0, 0, 0, 0, 0, 0, 0, 0, 0, 0,\n",
       "        0, 0, 0, 0, 0, 0, 0, 0, 0, 0, 0, 0, 0, 0, 0, 0, 0, 0, 0, 0, 0, 0,\n",
       "        0, 0, 0, 0, 0, 0, 1, 1, 1, 1, 1, 1, 1, 1, 1, 1, 1, 1, 1, 1, 1, 1,\n",
       "        1, 1, 1, 1, 1, 1, 1, 1, 1, 1, 1, 1, 1, 1, 1, 1, 1, 1, 1, 1, 1, 1,\n",
       "        1, 1, 1, 1, 1, 1, 1, 1, 1, 1, 1, 1, 2, 2, 2, 2, 2, 2, 2, 2, 2, 2,\n",
       "        2, 2, 2, 2, 2, 2, 2, 2, 2, 2, 2, 2, 2, 2, 2, 2, 2, 2, 2, 2, 2, 2,\n",
       "        2, 2, 2, 2, 2, 2, 2, 2, 2, 2, 2, 2, 2, 2, 2, 2, 2, 2]))"
      ]
     },
     "execution_count": 11,
     "metadata": {},
     "output_type": "execute_result"
    }
   ],
   "source": [
    "X, y"
   ]
  },
  {
   "cell_type": "markdown",
   "id": "43b670c0-e975-4678-bac9-4e76a3a36d57",
   "metadata": {},
   "source": [
    "## Split Train and Test Sets"
   ]
  },
  {
   "cell_type": "code",
   "execution_count": 12,
   "id": "63fee5ee-d6a8-48cf-bcf4-03667af43a70",
   "metadata": {},
   "outputs": [],
   "source": [
    "from sklearn.model_selection import train_test_split"
   ]
  },
  {
   "cell_type": "code",
   "execution_count": 13,
   "id": "d23bea1d-d525-4897-ae27-c0ddb11a91ad",
   "metadata": {},
   "outputs": [],
   "source": [
    "# Train Test Split\n",
    "X_train , X_test, y_train, y_test = train_test_split(X, y, test_size=0.2, random_state=42)"
   ]
  },
  {
   "cell_type": "code",
   "execution_count": 14,
   "id": "e7533834-a429-4a04-87cb-767e8023a9de",
   "metadata": {},
   "outputs": [],
   "source": [
    "# Convert X feature to fload tensors\n",
    "X_train = torch.FloatTensor(X_train)\n",
    "X_test = torch.FloatTensor(X_test)"
   ]
  },
  {
   "cell_type": "code",
   "execution_count": 15,
   "id": "40901ea8-44f1-4ba1-8bbc-238c5195774b",
   "metadata": {},
   "outputs": [],
   "source": [
    "# Convert y lables to tensors long\n",
    "y_train = torch.LongTensor(y_train)\n",
    "y_test = torch.LongTensor(y_test)"
   ]
  },
  {
   "cell_type": "markdown",
   "id": "3d1b3c3f-b292-45df-ac06-5351ca021925",
   "metadata": {},
   "source": [
    "## Define Criterion and Optimizer"
   ]
  },
  {
   "cell_type": "code",
   "execution_count": 16,
   "id": "b03d0753-e7df-4708-bc63-3a0d06e2d734",
   "metadata": {},
   "outputs": [],
   "source": [
    "# Set the criterion of model to measure the error.\n",
    "criterion = nn.CrossEntropyLoss()\n",
    "\n",
    "# Choose Adam Optimizer\n",
    "optimizer = torch.optim.Adam(model.parameters(), lr=0.01)"
   ]
  },
  {
   "cell_type": "code",
   "execution_count": 17,
   "id": "e6c8261b-d28c-4d9d-9447-95cda14cdfb7",
   "metadata": {},
   "outputs": [
    {
     "data": {
      "text/plain": [
       "<bound method Module.parameters of Model(\n",
       "  (fc1): Linear(in_features=4, out_features=8, bias=True)\n",
       "  (fc2): Linear(in_features=8, out_features=9, bias=True)\n",
       "  (out): Linear(in_features=9, out_features=3, bias=True)\n",
       ")>"
      ]
     },
     "execution_count": 17,
     "metadata": {},
     "output_type": "execute_result"
    }
   ],
   "source": [
    "model.parameters"
   ]
  },
  {
   "cell_type": "markdown",
   "id": "44dc19be-36d9-4ece-8eb7-2ba95c9981d5",
   "metadata": {},
   "source": [
    "## Training the Model"
   ]
  },
  {
   "cell_type": "code",
   "execution_count": 18,
   "id": "6ffb6466-699e-4a03-9642-863037d2b483",
   "metadata": {
    "scrolled": true
   },
   "outputs": [
    {
     "name": "stdout",
     "output_type": "stream",
     "text": [
      "Epoch: 0 and loss: 1.0846974849700928\n",
      "Epoch: 10 and loss: 0.9178672432899475\n",
      "Epoch: 20 and loss: 0.7620364427566528\n",
      "Epoch: 30 and loss: 0.6275593042373657\n",
      "Epoch: 40 and loss: 0.46693316102027893\n",
      "Epoch: 50 and loss: 0.2876907289028168\n",
      "Epoch: 60 and loss: 0.16747021675109863\n",
      "Epoch: 70 and loss: 0.10634326934814453\n",
      "Epoch: 80 and loss: 0.0805111825466156\n",
      "Epoch: 90 and loss: 0.06965284794569016\n",
      "Epoch: 100 and loss: 0.06449069082736969\n",
      "Epoch: 110 and loss: 0.061621930450201035\n",
      "Epoch: 120 and loss: 0.059805791825056076\n",
      "Epoch: 130 and loss: 0.05852556973695755\n",
      "Epoch: 140 and loss: 0.057549696415662766\n",
      "Epoch: 150 and loss: 0.056762777268886566\n",
      "Epoch: 160 and loss: 0.05610174313187599\n",
      "Epoch: 170 and loss: 0.0555298775434494\n",
      "Epoch: 180 and loss: 0.05502276122570038\n",
      "Epoch: 190 and loss: 0.05456468090415001\n",
      "Epoch: 200 and loss: 0.054144516587257385\n",
      "Epoch: 210 and loss: 0.053754325956106186\n",
      "Epoch: 220 and loss: 0.05338846519589424\n",
      "Epoch: 230 and loss: 0.05304582789540291\n",
      "Epoch: 240 and loss: 0.052877236157655716\n",
      "Epoch: 250 and loss: 0.05272286385297775\n",
      "Epoch: 260 and loss: 0.052200835198163986\n",
      "Epoch: 270 and loss: 0.05191695690155029\n",
      "Epoch: 280 and loss: 0.05167873203754425\n",
      "Epoch: 290 and loss: 0.05142824351787567\n",
      "Epoch: 300 and loss: 0.05119556188583374\n",
      "Epoch: 310 and loss: 0.050972141325473785\n",
      "Epoch: 320 and loss: 0.0507560558617115\n",
      "Epoch: 330 and loss: 0.05054638907313347\n",
      "Epoch: 340 and loss: 0.050343915820121765\n",
      "Epoch: 350 and loss: 0.05014832690358162\n",
      "Epoch: 360 and loss: 0.04996862635016441\n",
      "Epoch: 370 and loss: 0.050793394446372986\n",
      "Epoch: 380 and loss: 0.049835044890642166\n",
      "Epoch: 390 and loss: 0.04947762191295624\n",
      "Epoch: 400 and loss: 0.049368906766176224\n",
      "Epoch: 410 and loss: 0.0492103137075901\n",
      "Epoch: 420 and loss: 0.04906342178583145\n",
      "Epoch: 430 and loss: 0.04892726242542267\n",
      "Epoch: 440 and loss: 0.048801541328430176\n",
      "Epoch: 450 and loss: 0.04868025332689285\n",
      "Epoch: 460 and loss: 0.04856420308351517\n",
      "Epoch: 470 and loss: 0.04845302551984787\n",
      "Epoch: 480 and loss: 0.04836120828986168\n",
      "Epoch: 490 and loss: 0.049820441752672195\n"
     ]
    }
   ],
   "source": [
    "# Train our neural network\n",
    "# Epochs (One run thru all the training data in our network)\n",
    "epochs = 500\n",
    "losses = []\n",
    "\n",
    "for i in range(epochs):\n",
    "    # Go forward and get a prediction\n",
    "    y_pred = model.forward(X_train)  # get predicted results\n",
    "\n",
    "    # Measure the loss / error, gonna be high at first\n",
    "    loss = criterion(y_pred, y_train) # predicted values vs the y_train\n",
    "\n",
    "    # Keep track of our losses, loss is a tensor\n",
    "    losses.append(loss.detach().numpy())\n",
    "\n",
    "    # print stats every 10 epoch\n",
    "    if i % 10 == 0:\n",
    "        print(f'Epoch: {i} and loss: {loss}')\n",
    "\n",
    "    # Do some back propagation\n",
    "    optimizer.zero_grad()\n",
    "    loss.backward()\n",
    "    optimizer.step()"
   ]
  },
  {
   "cell_type": "markdown",
   "id": "aa56e23b-a4ca-4edf-9977-217c29bbe5ed",
   "metadata": {},
   "source": [
    "## Plot the Training Loss"
   ]
  },
  {
   "cell_type": "code",
   "execution_count": 19,
   "id": "0bd87938-f3cd-47db-939a-9750f9682e5a",
   "metadata": {},
   "outputs": [
    {
     "data": {
      "image/png": "[encoded data removed]",
      "text/plain": [
       "<Figure size 640x480 with 1 Axes>"
      ]
     },
     "metadata": {},
     "output_type": "display_data"
    }
   ],
   "source": [
    "# Graph it out\n",
    "plt.plot(losses, color='red', linestyle='dashed')\n",
    "plt.ylabel('loss/error')\n",
    "plt.xlabel('epoch');"
   ]
  },
  {
   "cell_type": "markdown",
   "id": "7b8a2d05-cd2a-43dc-b39c-7f3453683896",
   "metadata": {},
   "source": [
    "## Predicting with Trained Model and Evaluation on Test Set"
   ]
  },
  {
   "cell_type": "code",
   "execution_count": 20,
   "id": "a111bb8b-849a-4980-83a2-69269aaccfd4",
   "metadata": {},
   "outputs": [],
   "source": [
    "# Evaluate Model on Test Data Set (validate model on test set)\n",
    "with torch.no_grad():  # basically turn off back propagation\n",
    "    y_pred = model.forward(X_test)\n",
    "    loss = criterion(y_pred, y_test)  # compute Cross-entropy loss/error"
   ]
  },
  {
   "cell_type": "code",
   "execution_count": 21,
   "id": "eec7a245-5ddc-43ab-9db8-141927673ab8",
   "metadata": {},
   "outputs": [
    {
     "data": {
      "text/plain": [
       "tensor(0.0240)"
      ]
     },
     "execution_count": 21,
     "metadata": {},
     "output_type": "execute_result"
    }
   ],
   "source": [
    "loss"
   ]
  },
  {
   "cell_type": "code",
   "execution_count": 22,
   "id": "31825d49-023c-403b-98bc-fb0202165aed",
   "metadata": {},
   "outputs": [
    {
     "name": "stdout",
     "output_type": "stream",
     "text": [
      "1.) tensor([-1.9143, 10.1336,  2.8532])      \t predicted label:1\t true label:1 \t result:correct \n",
      "2.) tensor([ 12.1616,   3.8262, -11.0541])   \t predicted label:0\t true label:0 \t result:correct \n",
      "3.) tensor([-18.7296,   0.8536,  22.0961])   \t predicted label:2\t true label:2 \t result:correct \n",
      "4.) tensor([-2.9166,  9.0264,  4.0074])      \t predicted label:1\t true label:1 \t result:correct \n",
      "5.) tensor([-3.1749,  9.9211,  4.3195])      \t predicted label:1\t true label:1 \t result:correct \n",
      "6.) tensor([ 11.3071,   3.6489, -10.2455])   \t predicted label:0\t true label:0 \t result:correct \n",
      "7.) tensor([ 1.1811,  9.3988, -0.4448])      \t predicted label:1\t true label:1 \t result:correct \n",
      "8.) tensor([-9.7831,  5.1433, 11.8921])      \t predicted label:2\t true label:2 \t result:correct \n",
      "9.) tensor([-5.1846,  7.4256,  6.5933])      \t predicted label:1\t true label:1 \t result:correct \n",
      "10.) tensor([ 0.4916, 10.0704,  0.2304])      \t predicted label:1\t true label:1 \t result:correct \n",
      "11.) tensor([-7.6388,  6.4512,  9.4239])      \t predicted label:2\t true label:2 \t result:correct \n",
      "12.) tensor([ 11.5301,   2.8504, -10.4801])   \t predicted label:0\t true label:0 \t result:correct \n",
      "13.) tensor([ 12.6123,   3.1730, -11.5014])   \t predicted label:0\t true label:0 \t result:correct \n",
      "14.) tensor([ 11.6594,   2.9546, -10.6003])   \t predicted label:0\t true label:0 \t result:correct \n",
      "15.) tensor([ 12.2539,   3.0662, -11.1632])   \t predicted label:0\t true label:0 \t result:correct \n",
      "16.) tensor([-2.8531,  9.5883,  3.9502])      \t predicted label:1\t true label:1 \t result:correct \n",
      "17.) tensor([-12.8345,   3.1322,  15.3471])   \t predicted label:2\t true label:2 \t result:correct \n",
      "18.) tensor([0.3871, 9.8778, 0.3246])         \t predicted label:1\t true label:1 \t result:correct \n",
      "19.) tensor([-2.0972,  9.3844,  3.0549])      \t predicted label:1\t true label:1 \t result:correct \n",
      "20.) tensor([-12.7413,   2.8865,  15.2377])   \t predicted label:2\t true label:2 \t result:correct \n",
      "21.) tensor([ 11.0901,   3.0714, -10.0550])   \t predicted label:0\t true label:0 \t result:correct \n",
      "22.) tensor([-6.3775,  6.8391,  7.9654])      \t predicted label:2\t true label:2 \t result:correct \n",
      "23.) tensor([10.8381,  3.5074, -9.8030])      \t predicted label:0\t true label:0 \t result:correct \n",
      "24.) tensor([-12.0274,   3.4492,  14.4198])   \t predicted label:2\t true label:2 \t result:correct \n",
      "25.) tensor([-10.0368,   7.3491,  12.1952])   \t predicted label:2\t true label:2 \t result:correct \n",
      "26.) tensor([-10.7435,   4.3052,  12.9790])   \t predicted label:2\t true label:2 \t result:correct \n",
      "27.) tensor([-11.5495,   4.3333,  13.8681])   \t predicted label:2\t true label:2 \t result:correct \n",
      "28.) tensor([-13.0299,   3.3777,  15.5841])   \t predicted label:2\t true label:2 \t result:correct \n",
      "29.) tensor([10.8508,  3.0849, -9.8269])      \t predicted label:0\t true label:0 \t result:correct \n",
      "30.) tensor([10.9366,  3.2177, -9.9048])      \t predicted label:0\t true label:0 \t result:correct \n",
      "\n",
      "30 flowers are predicted correct out of 30 test flowers.\n"
     ]
    }
   ],
   "source": [
    "num_correct_preds = 0\n",
    "with torch.no_grad():\n",
    "    for i, data in enumerate(X_test):\n",
    "        y_pred = model.forward(data)\n",
    "\n",
    "        # Will tell us what type of flower class our nn thinks it is\n",
    "        print(f'{i+1}.) {str(y_pred):40} \\t predicted label:{y_pred.argmax()}\\t true label:{y_test[i]} \\t result:{'correct' if y_pred.argmax() == y_test[i] else 'wrong'} ')\n",
    "\n",
    "        # Predicted correct or not\n",
    "        if y_pred.argmax().item() == y_test[i]:\n",
    "            num_correct_preds += 1\n",
    "\n",
    "print(f'\\n{num_correct_preds} flowers are predicted correct out of 30 test flowers.')"
   ]
  },
  {
   "cell_type": "markdown",
   "id": "9a7f6ed8-98c2-4909-8330-52b840430397",
   "metadata": {},
   "source": [
    "### Create new iris flowers for prediction"
   ]
  },
  {
   "cell_type": "code",
   "execution_count": 23,
   "id": "80ad03be-d9e8-49cd-a0b3-fa7a7c9e9e5f",
   "metadata": {},
   "outputs": [],
   "source": [
    "new_iris = torch.tensor([4.7, 3.2, 1.3, .2])"
   ]
  },
  {
   "cell_type": "code",
   "execution_count": 24,
   "id": "39b83761-4a2a-4e44-8614-4d01df5e3fb7",
   "metadata": {},
   "outputs": [
    {
     "name": "stdout",
     "output_type": "stream",
     "text": [
      "tensor([ 11.4404,   2.8236, -10.3955])\n",
      "tensor([ 11.4404,   2.8236, -10.3955])\n"
     ]
    }
   ],
   "source": [
    "with torch.no_grad():\n",
    "    \n",
    "    print(model.forward(new_iris))\n",
    "    print(model(new_iris))"
   ]
  },
  {
   "cell_type": "code",
   "execution_count": 25,
   "id": "b900a766-245f-4ff4-a9f8-52cdd5510373",
   "metadata": {},
   "outputs": [
    {
     "name": "stdout",
     "output_type": "stream",
     "text": [
      "tensor([-7.4278,  6.0419,  9.1547])\n",
      "2\n"
     ]
    }
   ],
   "source": [
    "newer_iris = torch.tensor([5.9, 3.0, 5.1, 1.8])\n",
    "\n",
    "with torch.no_grad():\n",
    "    print(model(newer_iris))\n",
    "    print(model(newer_iris).argmax().item())"
   ]
  },
  {
   "cell_type": "markdown",
   "id": "c1635f1b-b535-4164-a6e2-92d19e6b7458",
   "metadata": {},
   "source": [
    "## Save the ANN Classifier Model"
   ]
  },
  {
   "cell_type": "code",
   "execution_count": 26,
   "id": "65a98ec7-b56c-4363-87ba-4b8ce5ff8419",
   "metadata": {},
   "outputs": [],
   "source": [
    "torch.save(model.state_dict(), 'pytorch_nn_iris_classifier.pt')"
   ]
  },
  {
   "cell_type": "code",
   "execution_count": 27,
   "id": "79edb81a-c76d-42a3-8194-1e1ed645c05e",
   "metadata": {},
   "outputs": [
    {
     "data": {
      "text/plain": [
       "OrderedDict([('fc1.weight',\n",
       "              tensor([[ 0.6032,  0.3151,  0.4249,  1.1511],\n",
       "                      [-0.1096,  0.1009, -0.2434,  0.2936],\n",
       "                      [ 0.5777, -0.6265,  1.0459,  1.0734],\n",
       "                      [ 0.6968,  0.6252, -0.1220, -1.2988],\n",
       "                      [ 0.5829,  0.5930, -0.7273, -1.0887],\n",
       "                      [-0.2304, -0.0586, -0.2031,  0.3317],\n",
       "                      [-0.3947, -0.2305, -0.1412, -0.3006],\n",
       "                      [ 0.6284, -0.2511,  1.1708,  0.4858]])),\n",
       "             ('fc1.bias',\n",
       "              tensor([-0.1330,  0.0832, -1.3409,  1.9024,  1.6684,  0.4040,  0.0547, -0.1934])),\n",
       "             ('fc2.weight',\n",
       "              tensor([[ 0.2478, -0.0959,  0.0082,  0.9711,  0.7630, -0.1546,  0.2041,  0.5320],\n",
       "                      [ 0.1795, -0.2155, -0.3500, -0.1366, -0.2712,  0.2901,  0.1018,  0.1464],\n",
       "                      [ 0.2878, -0.0062,  1.0948, -1.3113, -1.0705, -0.2413,  0.1090,  0.3343],\n",
       "                      [ 0.3099, -0.0737,  0.9375, -0.3163, -0.6705, -0.2109,  0.3180,  0.8833],\n",
       "                      [ 0.2224, -0.2918, -0.4779, -0.3924, -0.2961,  0.1432,  0.1266,  0.2159],\n",
       "                      [-0.1826, -0.2410,  0.1876, -0.1429,  0.2146, -0.0839,  0.2022, -0.2747],\n",
       "                      [-0.1784,  0.1078,  0.0747, -0.0901,  0.2107,  0.2403, -0.2564, -0.1888],\n",
       "                      [ 0.3237, -0.1193, -0.1253, -0.3421, -0.2025,  0.0883, -0.0467, -0.2566],\n",
       "                      [ 0.0083, -0.2415, -0.3000, -0.1947, -0.3094, -0.2251,  0.3534,  0.0668]])),\n",
       "             ('fc2.bias',\n",
       "              tensor([ 7.3529e-01, -3.2975e-01, -1.6700e+00, -2.8776e-01, -5.0088e-02,\n",
       "                      -3.1110e-01, -1.5234e-01, -2.1166e-01,  9.7979e-04])),\n",
       "             ('out.weight',\n",
       "              tensor([[ 0.7381, -0.0231, -0.6743, -1.0034, -0.1434, -0.1141, -0.2631,  0.2795,\n",
       "                       -0.0662],\n",
       "                      [ 0.2201,  0.1039, -1.5991,  0.6709, -0.1439, -0.1278, -0.2767, -0.3314,\n",
       "                        0.0954],\n",
       "                      [-0.6966,  0.1298,  0.9366,  0.9740, -0.2948, -0.0576,  0.0696,  0.1721,\n",
       "                        0.2691]])),\n",
       "             ('out.bias', tensor([ 0.9249, -0.3117, -0.4716]))])"
      ]
     },
     "execution_count": 27,
     "metadata": {},
     "output_type": "execute_result"
    }
   ],
   "source": [
    "model.state_dict()"
   ]
  },
  {
   "cell_type": "markdown",
   "id": "e07dd969-adfd-4e65-a991-4620ccbdb3b0",
   "metadata": {},
   "source": [
    "### Load the Saved Model"
   ]
  },
  {
   "cell_type": "code",
   "execution_count": 28,
   "id": "3d3e866e-40a7-4849-912b-45df66ab6125",
   "metadata": {},
   "outputs": [
    {
     "data": {
      "text/plain": [
       "<All keys matched successfully>"
      ]
     },
     "execution_count": 28,
     "metadata": {},
     "output_type": "execute_result"
    }
   ],
   "source": [
    "new_model = Model()\n",
    "\n",
    "state_dict = torch.load('pytorch_nn_iris_classifier.pt', weights_only=True)\n",
    "new_model.load_state_dict(state_dict)"
   ]
  },
  {
   "cell_type": "code",
   "execution_count": 29,
   "id": "f4d4c303-8542-438f-a91c-2f42382d02a7",
   "metadata": {},
   "outputs": [
    {
     "data": {
      "text/plain": [
       "Model(\n",
       "  (fc1): Linear(in_features=4, out_features=8, bias=True)\n",
       "  (fc2): Linear(in_features=8, out_features=9, bias=True)\n",
       "  (out): Linear(in_features=9, out_features=3, bias=True)\n",
       ")"
      ]
     },
     "execution_count": 29,
     "metadata": {},
     "output_type": "execute_result"
    }
   ],
   "source": [
    "# Make sure it has loaded correctly\n",
    "new_model.eval()"
   ]
  }
 ],
 "metadata": {
  "kernelspec": {
   "display_name": "Python 3 (ipykernel)",
   "language": "python",
   "name": "python3"
  },
  "language_info": {
   "codemirror_mode": {
    "name": "ipython",
    "version": 3
   },
   "file_extension": ".py",
   "mimetype": "text/x-python",
   "name": "python",
   "nbconvert_exporter": "python",
   "pygments_lexer": "ipython3",
   "version": "3.12.4"
  }
 },
 "nbformat": 4,
 "nbformat_minor": 5
}

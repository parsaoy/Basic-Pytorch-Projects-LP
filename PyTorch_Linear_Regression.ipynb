{
 "cells": [
  {
   "cell_type": "code",
   "execution_count": 1,
   "id": "ec1f80b4-1b71-4dd5-8139-d9d2631eb5f2",
   "metadata": {
    "execution": {
     "iopub.execute_input": "2024-08-25T18:14:05.684987Z",
     "iopub.status.busy": "2024-08-25T18:14:05.684846Z",
     "iopub.status.idle": "2024-08-25T18:14:06.620618Z",
     "shell.execute_reply": "2024-08-25T18:14:06.620355Z",
     "shell.execute_reply.started": "2024-08-25T18:14:05.684971Z"
    }
   },
   "outputs": [],
   "source": [
    "import torch\n",
    "from torch import nn # nn contains all of PyTorch's building blocks "
   ]
  },
  {
   "cell_type": "code",
   "execution_count": 2,
   "id": "c099806e-eefe-435f-b35e-28dc29bad8a3",
   "metadata": {
    "execution": {
     "iopub.execute_input": "2024-08-25T18:14:06.621208Z",
     "iopub.status.busy": "2024-08-25T18:14:06.621086Z",
     "iopub.status.idle": "2024-08-25T18:14:06.639618Z",
     "shell.execute_reply": "2024-08-25T18:14:06.638600Z",
     "shell.execute_reply.started": "2024-08-25T18:14:06.621196Z"
    }
   },
   "outputs": [],
   "source": [
    "device = torch.device('mps') if torch.backends.mps.is_available() else torch.device('cpu')\n",
    "torch.set_default_device(device)"
   ]
  },
  {
   "cell_type": "code",
   "execution_count": 3,
   "id": "9e8465c4-a0db-42cb-bb3c-143b49f35d98",
   "metadata": {
    "execution": {
     "iopub.execute_input": "2024-08-25T18:14:06.640778Z",
     "iopub.status.busy": "2024-08-25T18:14:06.640468Z",
     "iopub.status.idle": "2024-08-25T18:14:06.643323Z",
     "shell.execute_reply": "2024-08-25T18:14:06.642970Z",
     "shell.execute_reply.started": "2024-08-25T18:14:06.640765Z"
    }
   },
   "outputs": [],
   "source": [
    "# Creating Data"
   ]
  },
  {
   "cell_type": "code",
   "execution_count": 4,
   "id": "e9366b55-b270-44d2-ba4d-6a828f116125",
   "metadata": {
    "execution": {
     "iopub.execute_input": "2024-08-25T18:14:06.645885Z",
     "iopub.status.busy": "2024-08-25T18:14:06.645705Z",
     "iopub.status.idle": "2024-08-25T18:14:06.741333Z",
     "shell.execute_reply": "2024-08-25T18:14:06.741052Z",
     "shell.execute_reply.started": "2024-08-25T18:14:06.645873Z"
    }
   },
   "outputs": [],
   "source": [
    "w = .7\n",
    "b = .3\n",
    "\n",
    "X = torch.arange(0, 1, .02).unsqueeze(dim=1)\n",
    "y = w * X + b"
   ]
  },
  {
   "cell_type": "code",
   "execution_count": 5,
   "id": "4cff698a-1316-4b07-9aad-0f2e2e4bcbb0",
   "metadata": {
    "execution": {
     "iopub.execute_input": "2024-08-25T18:14:06.741946Z",
     "iopub.status.busy": "2024-08-25T18:14:06.741863Z",
     "iopub.status.idle": "2024-08-25T18:14:06.747491Z",
     "shell.execute_reply": "2024-08-25T18:14:06.746995Z",
     "shell.execute_reply.started": "2024-08-25T18:14:06.741937Z"
    }
   },
   "outputs": [
    {
     "data": {
      "text/plain": [
       "torch.Size([50, 1])"
      ]
     },
     "execution_count": 5,
     "metadata": {},
     "output_type": "execute_result"
    }
   ],
   "source": [
    "X.shape"
   ]
  },
  {
   "cell_type": "code",
   "execution_count": 6,
   "id": "453a124e-7ff1-4f12-8b0c-2a70cf6ad331",
   "metadata": {
    "execution": {
     "iopub.execute_input": "2024-08-25T18:14:06.748313Z",
     "iopub.status.busy": "2024-08-25T18:14:06.748216Z",
     "iopub.status.idle": "2024-08-25T18:14:07.150022Z",
     "shell.execute_reply": "2024-08-25T18:14:07.149694Z",
     "shell.execute_reply.started": "2024-08-25T18:14:06.748305Z"
    }
   },
   "outputs": [],
   "source": [
    "from sklearn.model_selection import train_test_split"
   ]
  },
  {
   "cell_type": "code",
   "execution_count": 7,
   "id": "4f6c2852-5a42-4932-aec6-d6d7d2d45c68",
   "metadata": {
    "execution": {
     "iopub.execute_input": "2024-08-25T18:14:07.150857Z",
     "iopub.status.busy": "2024-08-25T18:14:07.150734Z",
     "iopub.status.idle": "2024-08-25T18:14:07.155474Z",
     "shell.execute_reply": "2024-08-25T18:14:07.155203Z",
     "shell.execute_reply.started": "2024-08-25T18:14:07.150848Z"
    }
   },
   "outputs": [],
   "source": [
    "X_train, X_test, y_train, y_test = train_test_split(X, y, test_size=0.2, shuffle=True)"
   ]
  },
  {
   "cell_type": "code",
   "execution_count": 8,
   "id": "e484ce4d-dd93-4130-a258-3a2082a81557",
   "metadata": {
    "execution": {
     "iopub.execute_input": "2024-08-25T18:14:07.157328Z",
     "iopub.status.busy": "2024-08-25T18:14:07.156405Z",
     "iopub.status.idle": "2024-08-25T18:14:07.241731Z",
     "shell.execute_reply": "2024-08-25T18:14:07.241390Z",
     "shell.execute_reply.started": "2024-08-25T18:14:07.157306Z"
    }
   },
   "outputs": [
    {
     "data": {
      "text/plain": [
       "tensor([[0.5200],\n",
       "        [0.3400],\n",
       "        [0.6200],\n",
       "        [0.1600],\n",
       "        [0.4600],\n",
       "        [0.6000],\n",
       "        [0.7800],\n",
       "        [0.3200],\n",
       "        [0.5000],\n",
       "        [0.1800],\n",
       "        [0.4800],\n",
       "        [0.4200],\n",
       "        [0.9000],\n",
       "        [0.9600],\n",
       "        [0.3800],\n",
       "        [0.2400],\n",
       "        [0.3000],\n",
       "        [0.9400],\n",
       "        [0.2800],\n",
       "        [0.0600],\n",
       "        [0.8200],\n",
       "        [0.0000],\n",
       "        [0.8600],\n",
       "        [0.4000],\n",
       "        [0.1200],\n",
       "        [0.0800],\n",
       "        [0.2000],\n",
       "        [0.6800],\n",
       "        [0.7400],\n",
       "        [0.3600],\n",
       "        [0.4400],\n",
       "        [0.7200],\n",
       "        [0.7000],\n",
       "        [0.1000],\n",
       "        [0.6600],\n",
       "        [0.7600],\n",
       "        [0.2600],\n",
       "        [0.1400],\n",
       "        [0.8400],\n",
       "        [0.0400]], device='mps:0')"
      ]
     },
     "execution_count": 8,
     "metadata": {},
     "output_type": "execute_result"
    }
   ],
   "source": [
    "X_train.to('mps')"
   ]
  },
  {
   "cell_type": "markdown",
   "id": "b7f24bf3-485d-467b-8526-834535461afd",
   "metadata": {},
   "source": [
    "## Visualization"
   ]
  },
  {
   "cell_type": "code",
   "execution_count": 9,
   "id": "5aaeed41-6d12-4538-bbe8-c7ebd5deb8c2",
   "metadata": {
    "execution": {
     "iopub.execute_input": "2024-08-25T18:14:07.242366Z",
     "iopub.status.busy": "2024-08-25T18:14:07.242255Z",
     "iopub.status.idle": "2024-08-25T18:14:07.493325Z",
     "shell.execute_reply": "2024-08-25T18:14:07.493010Z",
     "shell.execute_reply.started": "2024-08-25T18:14:07.242357Z"
    }
   },
   "outputs": [],
   "source": [
    "import matplotlib.pyplot as plt"
   ]
  },
  {
   "cell_type": "code",
   "execution_count": 10,
   "id": "ea5e6d41-29a3-4522-9f3d-596fdffc13d1",
   "metadata": {
    "execution": {
     "iopub.execute_input": "2024-08-25T18:14:07.494272Z",
     "iopub.status.busy": "2024-08-25T18:14:07.493986Z",
     "iopub.status.idle": "2024-08-25T18:14:07.496518Z",
     "shell.execute_reply": "2024-08-25T18:14:07.496290Z",
     "shell.execute_reply.started": "2024-08-25T18:14:07.494259Z"
    }
   },
   "outputs": [],
   "source": [
    "def plot_predictions(train_data=X_train,\n",
    "                     train_labels=y_train,\n",
    "                     test_data=X_test,\n",
    "                     test_labels=y_test,\n",
    "                     predictions=None):\n",
    "    \"\"\"Plots training data, test data and compares predictions\n",
    "    \"\"\"\n",
    "    plt.figure()\n",
    "    \n",
    "    # Plot training data in blue\n",
    "    plt.scatter(train_data.cpu(), train_labels.cpu(), c='b', s=4, label='Training data')\n",
    "    \n",
    "    # Plot test data in gree\n",
    "    plt.scatter(test_data.cpu(), test_labels.cpu(), c='g', s=4, label=\"Testing data\")\n",
    "    \n",
    "    # Are there predictions?\n",
    "    if predictions is not None:\n",
    "        plt.scatter(test_data.cpu(), predictions.cpu(), c='r', s=4, label=\"Predictions\")\n",
    "\n",
    "    plt.legend(fontsize=14);"
   ]
  },
  {
   "cell_type": "code",
   "execution_count": 11,
   "id": "84c9a657-2b3d-43fd-8b4e-8dc6680edeb0",
   "metadata": {
    "execution": {
     "iopub.execute_input": "2024-08-25T18:14:07.496916Z",
     "iopub.status.busy": "2024-08-25T18:14:07.496845Z",
     "iopub.status.idle": "2024-08-25T18:14:07.589105Z",
     "shell.execute_reply": "2024-08-25T18:14:07.588788Z",
     "shell.execute_reply.started": "2024-08-25T18:14:07.496909Z"
    }
   },
   "outputs": [
    {
     "data": {
      "image/png": "[encoded data removed]",
      "text/plain": [
       "<Figure size 640x480 with 1 Axes>"
      ]
     },
     "metadata": {},
     "output_type": "display_data"
    }
   ],
   "source": [
    "plot_predictions()"
   ]
  },
  {
   "cell_type": "markdown",
   "id": "e8dfeb2d-b90f-458c-83b6-9e90521944a5",
   "metadata": {},
   "source": [
    "## Build Linear Regression Model Class"
   ]
  },
  {
   "cell_type": "code",
   "execution_count": 12,
   "id": "14cc3764-4c95-4070-ab30-83afcc90f4e5",
   "metadata": {
    "execution": {
     "iopub.execute_input": "2024-08-25T18:14:07.589751Z",
     "iopub.status.busy": "2024-08-25T18:14:07.589663Z",
     "iopub.status.idle": "2024-08-25T18:14:07.591985Z",
     "shell.execute_reply": "2024-08-25T18:14:07.591679Z",
     "shell.execute_reply.started": "2024-08-25T18:14:07.589743Z"
    }
   },
   "outputs": [],
   "source": [
    "class LinearRegressionModel(nn.Module):\n",
    "    def __init__(self):\n",
    "        super().__init__()\n",
    "        \n",
    "        self.w = nn.Parameter(torch.randn(1, requires_grad=True))\n",
    "        self.b = nn.Parameter(torch.randn(1, requires_grad=True))\n",
    "\n",
    "\n",
    "    def forward(self, x: torch.Tensor) -> torch.Tensor:\n",
    "        return self.w * x + self.b  # this is the linear regression formula        "
   ]
  },
  {
   "cell_type": "code",
   "execution_count": 13,
   "id": "85839ae1-c375-46d8-9d04-955406ec9fd0",
   "metadata": {
    "execution": {
     "iopub.execute_input": "2024-08-25T18:14:07.594435Z",
     "iopub.status.busy": "2024-08-25T18:14:07.594162Z",
     "iopub.status.idle": "2024-08-25T18:14:07.644905Z",
     "shell.execute_reply": "2024-08-25T18:14:07.644571Z",
     "shell.execute_reply.started": "2024-08-25T18:14:07.594425Z"
    }
   },
   "outputs": [
    {
     "name": "stdout",
     "output_type": "stream",
     "text": [
      "OrderedDict({'w': tensor([0.5752], device='mps:0'), 'b': tensor([-1.2965], device='mps:0')}) \n",
      "\n",
      "\n"
     ]
    },
    {
     "data": {
      "text/plain": [
       "[Parameter containing:\n",
       " tensor([0.5752], device='mps:0', requires_grad=True),\n",
       " Parameter containing:\n",
       " tensor([-1.2965], device='mps:0', requires_grad=True)]"
      ]
     },
     "execution_count": 13,
     "metadata": {},
     "output_type": "execute_result"
    }
   ],
   "source": [
    "model = LinearRegressionModel()\n",
    "# print(i for i in model.parameters())\n",
    "print(model.state_dict(), '\\n\\n')\n",
    "list(model.parameters())"
   ]
  },
  {
   "cell_type": "markdown",
   "id": "4f095492-ad53-4c03-b020-9bd141fa948d",
   "metadata": {},
   "source": [
    "## Making Random Untrained Predictions with Model"
   ]
  },
  {
   "cell_type": "code",
   "execution_count": 14,
   "id": "22b469a7-246a-4099-9ed8-2db55875cd26",
   "metadata": {
    "execution": {
     "iopub.execute_input": "2024-08-25T18:14:07.645405Z",
     "iopub.status.busy": "2024-08-25T18:14:07.645329Z",
     "iopub.status.idle": "2024-08-25T18:14:07.687806Z",
     "shell.execute_reply": "2024-08-25T18:14:07.687295Z",
     "shell.execute_reply.started": "2024-08-25T18:14:07.645396Z"
    }
   },
   "outputs": [
    {
     "data": {
      "text/plain": [
       "tensor([[-0.7673],\n",
       "        [-0.9284],\n",
       "        [-0.7328],\n",
       "        [-0.9859],\n",
       "        [-0.7903],\n",
       "        [-0.9629],\n",
       "        [-0.9744],\n",
       "        [-0.8363],\n",
       "        [-1.2850],\n",
       "        [-1.1700]], device='mps:0')"
      ]
     },
     "execution_count": 14,
     "metadata": {},
     "output_type": "execute_result"
    }
   ],
   "source": [
    "with torch.inference_mode():\n",
    "    y_preds = model(X_test)\n",
    "\n",
    "y_preds"
   ]
  },
  {
   "cell_type": "code",
   "execution_count": 15,
   "id": "38b3e33d-2036-4f1b-a705-e8150cdde8b7",
   "metadata": {
    "execution": {
     "iopub.execute_input": "2024-08-25T18:14:07.688371Z",
     "iopub.status.busy": "2024-08-25T18:14:07.688289Z",
     "iopub.status.idle": "2024-08-25T18:14:07.770989Z",
     "shell.execute_reply": "2024-08-25T18:14:07.770605Z",
     "shell.execute_reply.started": "2024-08-25T18:14:07.688363Z"
    }
   },
   "outputs": [
    {
     "data": {
      "image/png": "[encoded data removed]",
      "text/plain": [
       "<Figure size 640x480 with 1 Axes>"
      ]
     },
     "metadata": {},
     "output_type": "display_data"
    }
   ],
   "source": [
    "plot_predictions(X_train, y_train, X_test, y_test, y_preds)"
   ]
  },
  {
   "cell_type": "code",
   "execution_count": 16,
   "id": "3fafb355-9a1c-4ac7-827e-0274fffbcf67",
   "metadata": {
    "execution": {
     "iopub.execute_input": "2024-08-25T18:14:07.771977Z",
     "iopub.status.busy": "2024-08-25T18:14:07.771878Z",
     "iopub.status.idle": "2024-08-25T18:14:07.785718Z",
     "shell.execute_reply": "2024-08-25T18:14:07.785275Z",
     "shell.execute_reply.started": "2024-08-25T18:14:07.771968Z"
    }
   },
   "outputs": [
    {
     "data": {
      "text/plain": [
       "tensor([[-0.7673],\n",
       "        [-0.9284],\n",
       "        [-0.7328],\n",
       "        [-0.9859],\n",
       "        [-0.7903],\n",
       "        [-0.9629],\n",
       "        [-0.9744],\n",
       "        [-0.8363],\n",
       "        [-1.2850],\n",
       "        [-1.1700]], device='mps:0')"
      ]
     },
     "execution_count": 16,
     "metadata": {},
     "output_type": "execute_result"
    }
   ],
   "source": [
    "with torch.no_grad():\n",
    "    y_preds = model(X_test)\n",
    "y_preds"
   ]
  },
  {
   "cell_type": "code",
   "execution_count": 17,
   "id": "63d0b568-87bd-49ef-a5f0-7c5e3332cd88",
   "metadata": {
    "execution": {
     "iopub.execute_input": "2024-08-25T18:14:07.786431Z",
     "iopub.status.busy": "2024-08-25T18:14:07.786335Z",
     "iopub.status.idle": "2024-08-25T18:14:07.808036Z",
     "shell.execute_reply": "2024-08-25T18:14:07.807445Z",
     "shell.execute_reply.started": "2024-08-25T18:14:07.786423Z"
    }
   },
   "outputs": [
    {
     "data": {
      "text/plain": [
       "tensor([[-0.7673],\n",
       "        [-0.9284],\n",
       "        [-0.7328],\n",
       "        [-0.9859],\n",
       "        [-0.7903],\n",
       "        [-0.9629],\n",
       "        [-0.9744],\n",
       "        [-0.8363],\n",
       "        [-1.2850],\n",
       "        [-1.1700]], device='mps:0', grad_fn=<AddBackward0>)"
      ]
     },
     "execution_count": 17,
     "metadata": {},
     "output_type": "execute_result"
    }
   ],
   "source": [
    "y_preds = model(X_test)  # Don't go with this approach\n",
    "y_preds"
   ]
  },
  {
   "cell_type": "markdown",
   "id": "6135dadf-e6f3-4df1-9539-4eeb63ac28b5",
   "metadata": {},
   "source": [
    "## Training the Model"
   ]
  },
  {
   "cell_type": "markdown",
   "id": "68b5afdf-ef27-4d95-807f-7a1fd2ae6688",
   "metadata": {
    "execution": {
     "iopub.execute_input": "2024-08-25T17:31:12.916450Z",
     "iopub.status.busy": "2024-08-25T17:31:12.915761Z",
     "iopub.status.idle": "2024-08-25T17:31:12.926634Z",
     "shell.execute_reply": "2024-08-25T17:31:12.925551Z",
     "shell.execute_reply.started": "2024-08-25T17:31:12.916418Z"
    }
   },
   "source": [
    "### Define criterion and optimizer"
   ]
  },
  {
   "cell_type": "code",
   "execution_count": 18,
   "id": "a91af8ff-969d-45ca-9856-36637c6b3cb5",
   "metadata": {
    "execution": {
     "iopub.execute_input": "2024-08-25T18:14:07.810595Z",
     "iopub.status.busy": "2024-08-25T18:14:07.808886Z",
     "iopub.status.idle": "2024-08-25T18:14:07.829103Z",
     "shell.execute_reply": "2024-08-25T18:14:07.828304Z",
     "shell.execute_reply.started": "2024-08-25T18:14:07.810581Z"
    }
   },
   "outputs": [
    {
     "data": {
      "text/plain": [
       "[Parameter containing:\n",
       " tensor([0.5752], device='mps:0', requires_grad=True),\n",
       " Parameter containing:\n",
       " tensor([-1.2965], device='mps:0', requires_grad=True)]"
      ]
     },
     "execution_count": 18,
     "metadata": {},
     "output_type": "execute_result"
    }
   ],
   "source": [
    "# check parameters\n",
    "list(model.parameters())"
   ]
  },
  {
   "cell_type": "code",
   "execution_count": 19,
   "id": "4a845c0e-b8bb-4ad3-95e1-b24c3041a5e2",
   "metadata": {
    "execution": {
     "iopub.execute_input": "2024-08-25T18:14:07.830444Z",
     "iopub.status.busy": "2024-08-25T18:14:07.829778Z",
     "iopub.status.idle": "2024-08-25T18:14:07.843333Z",
     "shell.execute_reply": "2024-08-25T18:14:07.843080Z",
     "shell.execute_reply.started": "2024-08-25T18:14:07.830369Z"
    }
   },
   "outputs": [
    {
     "data": {
      "text/plain": [
       "OrderedDict([('w', tensor([0.5752], device='mps:0')),\n",
       "             ('b', tensor([-1.2965], device='mps:0'))])"
      ]
     },
     "execution_count": 19,
     "metadata": {},
     "output_type": "execute_result"
    }
   ],
   "source": [
    "model.state_dict()"
   ]
  },
  {
   "cell_type": "code",
   "execution_count": 20,
   "id": "0ba8c521-0d2b-4f07-8c98-39e146a2feed",
   "metadata": {
    "execution": {
     "iopub.execute_input": "2024-08-25T18:14:07.843976Z",
     "iopub.status.busy": "2024-08-25T18:14:07.843878Z",
     "iopub.status.idle": "2024-08-25T18:14:07.850211Z",
     "shell.execute_reply": "2024-08-25T18:14:07.849918Z",
     "shell.execute_reply.started": "2024-08-25T18:14:07.843967Z"
    }
   },
   "outputs": [
    {
     "data": {
      "text/plain": [
       "device(type='mps', index=0)"
      ]
     },
     "execution_count": 20,
     "metadata": {},
     "output_type": "execute_result"
    }
   ],
   "source": [
    "X_test.device"
   ]
  },
  {
   "cell_type": "code",
   "execution_count": 23,
   "id": "26392b74-e0c4-4de2-8a13-b1b8abb06fd4",
   "metadata": {
    "execution": {
     "iopub.execute_input": "2024-08-25T18:29:57.820328Z",
     "iopub.status.busy": "2024-08-25T18:29:57.819589Z",
     "iopub.status.idle": "2024-08-25T18:29:57.834387Z",
     "shell.execute_reply": "2024-08-25T18:29:57.833621Z",
     "shell.execute_reply.started": "2024-08-25T18:29:57.820293Z"
    }
   },
   "outputs": [],
   "source": [
    "# Setup a loss function\n",
    "criterion = nn.L1Loss\n",
    "\n",
    "# Setup an optimizer (Stocastic Gradient Descent)\n",
    "optimizer = torch.optim.SGD(params=model.parameters(), lr=3e-4)"
   ]
  },
  {
   "cell_type": "markdown",
   "id": "6b50689f-ce1f-4486-9a27-b803a548ed48",
   "metadata": {},
   "source": [
    "### Building a training loop in PyTorch + testing Loop\n",
    "0. Loop thru the data\n",
    "1. Forward Pass (**forward-propagation**)\n",
    "2. Calculate the loss\n",
    "3. Optimizer zero grad\n",
    "4. Loss backward (**back-propagation**)\n",
    "5. Optimizer step (**gradient-descent**)"
   ]
  },
  {
   "cell_type": "code",
   "execution_count": null,
   "id": "633f79e8-1661-4819-ac19-52afb26a900f",
   "metadata": {},
   "outputs": [],
   "source": [
    "# An epoch: one loop through the data\n",
    "epochs = 1\n",
    "\n",
    "# 0. Training loop\n",
    "for epoch in range(epochs):\n",
    "    # set the model to training loop, sets all parametres that require gradients to require_gradients=True\n",
    "    model.train()\n",
    "\n",
    "\n",
    "    # 1. Forward-propagation \n",
    "    y_pred = model(X_train)\n",
    "\n",
    "    # 2. Calculate the loss\n",
    "    loss = criterion(y_pred, y_test)\n",
    "\n",
    "    # 3. Optimizer zero grad\n",
    "    optimizer.zero_grad()\n",
    "\n",
    "\n",
    "    # 4. Perform Back-propagation on the loss with respect to the parameters of the model\n",
    "    loss.backward()\n",
    "\n",
    "    # 5. Step the optimizer (perform gradient-descent)\n",
    "    optimizer.step()\n",
    "\n",
    "\n",
    "\n",
    "    \n",
    "    model.eval()  # turns off gradient tracking\n",
    "    "
   ]
  },
  {
   "cell_type": "code",
   "execution_count": null,
   "id": "c3644b12-c2a2-49f4-8563-d84afe447874",
   "metadata": {},
   "outputs": [],
   "source": []
  },
  {
   "cell_type": "code",
   "execution_count": null,
   "id": "aa35e9a6-1d14-4181-9fc7-75d772ebd427",
   "metadata": {},
   "outputs": [],
   "source": []
  },
  {
   "cell_type": "code",
   "execution_count": null,
   "id": "d434e7d0-9cf0-49c1-8395-6b576f4063b2",
   "metadata": {},
   "outputs": [],
   "source": []
  },
  {
   "cell_type": "code",
   "execution_count": null,
   "id": "e0137462-7d32-4cf3-aa27-920b1d582b9f",
   "metadata": {},
   "outputs": [],
   "source": []
  },
  {
   "cell_type": "code",
   "execution_count": null,
   "id": "cdbb7157-586b-4917-a13f-460aa900c3d4",
   "metadata": {},
   "outputs": [],
   "source": []
  },
  {
   "cell_type": "code",
   "execution_count": null,
   "id": "044395d3-66c8-4c9d-b22c-275883eb7c84",
   "metadata": {},
   "outputs": [],
   "source": []
  },
  {
   "cell_type": "code",
   "execution_count": null,
   "id": "07229ca1-4042-44c3-8e07-04df113b346f",
   "metadata": {},
   "outputs": [],
   "source": []
  },
  {
   "cell_type": "code",
   "execution_count": null,
   "id": "e2aa8d16-bf44-4b38-bb12-504d9c677ca4",
   "metadata": {},
   "outputs": [],
   "source": []
  },
  {
   "cell_type": "code",
   "execution_count": null,
   "id": "2a769446-7088-46ba-bc2b-b7794454d1d1",
   "metadata": {},
   "outputs": [],
   "source": []
  },
  {
   "cell_type": "code",
   "execution_count": null,
   "id": "3743bb8e-81b6-461c-ad96-d6cfa27c1cfe",
   "metadata": {},
   "outputs": [],
   "source": []
  },
  {
   "cell_type": "code",
   "execution_count": null,
   "id": "4074062f-138e-4cb3-9557-ba79b9f47cf5",
   "metadata": {},
   "outputs": [],
   "source": []
  }
 ],
 "metadata": {
  "kernelspec": {
   "display_name": "Python 3 (ipykernel)",
   "language": "python",
   "name": "python3"
  },
  "language_info": {
   "codemirror_mode": {
    "name": "ipython",
    "version": 3
   },
   "file_extension": ".py",
   "mimetype": "text/x-python",
   "name": "python",
   "nbconvert_exporter": "python",
   "pygments_lexer": "ipython3",
   "version": "3.12.4"
  }
 },
 "nbformat": 4,
 "nbformat_minor": 5
}

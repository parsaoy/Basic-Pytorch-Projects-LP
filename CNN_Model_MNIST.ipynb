{
 "cells": [
  {
   "cell_type": "markdown",
   "id": "a53659ed-a507-4a59-9c6d-ad7e174d8675",
   "metadata": {},
   "source": [
    "# Implementing **Pytorch** CNN Model Classifier on the MNIST Dataset"
   ]
  },
  {
   "cell_type": "code",
   "execution_count": 1,
   "id": "b7f2e7c5-4ced-414e-b651-bb5da04a415b",
   "metadata": {},
   "outputs": [],
   "source": [
    "import numpy as np\n",
    "import pandas as pd\n",
    "import matplotlib.pyplot as plt\n",
    "plt.style.use('bmh')\n",
    "\n",
    "import torch\n",
    "import torch.nn as nn\n",
    "import torch.nn.functional as F\n",
    "from torch.utils.data import DataLoader\n",
    "\n",
    "from torchvision import datasets, transforms\n",
    "from torchvision.utils import make_grid\n",
    "\n",
    "from sklearn.metrics import confusion_matrix"
   ]
  },
  {
   "cell_type": "code",
   "execution_count": 2,
   "id": "06703652-df06-442a-ae96-0ef01a1d1022",
   "metadata": {},
   "outputs": [],
   "source": [
    "# Convert MNIST Image Files into a Tensor of 4-Dimenstions (# of images, height, width, # of channels)\n",
    "\n",
    "transform = transforms.ToTensor()"
   ]
  },
  {
   "cell_type": "code",
   "execution_count": 3,
   "id": "de37e3bb-cc75-4bae-82d2-ef46a17fad7e",
   "metadata": {},
   "outputs": [],
   "source": [
    "# Train data\n",
    "train_data = datasets.MNIST(root='data/', train=True, download=True, transform=transform)"
   ]
  },
  {
   "cell_type": "code",
   "execution_count": 4,
   "id": "c29c065a-d59d-42c0-9b8c-ebc83c8ad142",
   "metadata": {},
   "outputs": [],
   "source": [
    "# Test data\n",
    "test_data = datasets.MNIST(root='data/', train=False, download=True, transform=transform)"
   ]
  },
  {
   "cell_type": "code",
   "execution_count": 5,
   "id": "2769538b-8780-4b90-86da-5abcd520670f",
   "metadata": {},
   "outputs": [
    {
     "data": {
      "text/plain": [
       "(Dataset MNIST\n",
       "     Number of datapoints: 60000\n",
       "     Root location: data/\n",
       "     Split: Train\n",
       "     StandardTransform\n",
       " Transform: ToTensor(),\n",
       " Dataset MNIST\n",
       "     Number of datapoints: 10000\n",
       "     Root location: data/\n",
       "     Split: Test\n",
       "     StandardTransform\n",
       " Transform: ToTensor())"
      ]
     },
     "execution_count": 5,
     "metadata": {},
     "output_type": "execute_result"
    }
   ],
   "source": [
    "train_data, test_data"
   ]
  },
  {
   "cell_type": "code",
   "execution_count": 6,
   "id": "e73fb8d7-9597-4310-bfe4-134574310b65",
   "metadata": {},
   "outputs": [],
   "source": [
    "# Let's create a small batch size for images...let's say 10 for each batch\n",
    "train_loader = DataLoader(dataset=train_data, batch_size=10, shuffle=True)\n",
    "test_loader = DataLoader(dataset=test_data, batch_size=10)"
   ]
  },
  {
   "cell_type": "code",
   "execution_count": 7,
   "id": "c2af5917-60e3-4595-a697-cdcedeaaade0",
   "metadata": {},
   "outputs": [],
   "source": [
    "# Define CNN Model for fun without OOP\n",
    "\n",
    "conv1 = nn.Conv2d(in_channels=1, out_channels=6, kernel_size=3)\n",
    "conv2 = nn.Conv2d(in_channels=6, out_channels=16, kernel_size=3)"
   ]
  },
  {
   "cell_type": "code",
   "execution_count": 8,
   "id": "d9d4a739-aaae-409a-831f-d6ecb7ac1cfa",
   "metadata": {},
   "outputs": [
    {
     "data": {
      "text/plain": [
       "torch.Size([1, 28, 28])"
      ]
     },
     "execution_count": 8,
     "metadata": {},
     "output_type": "execute_result"
    }
   ],
   "source": [
    "# Grab 1 MNIST record/image/sample\n",
    "for i, (X_train, y_train) in enumerate(train_data):\n",
    "    break\n",
    "\n",
    "X_train.shape"
   ]
  },
  {
   "cell_type": "code",
   "execution_count": 9,
   "id": "262ae140-f807-4700-bdfb-4c159591f3c2",
   "metadata": {},
   "outputs": [],
   "source": [
    "x = X_train.view(1, 1, 28, 28)"
   ]
  },
  {
   "cell_type": "code",
   "execution_count": 10,
   "id": "7b8529bf-f775-42bb-b3ba-1c00e5ebaff2",
   "metadata": {},
   "outputs": [
    {
     "data": {
      "text/plain": [
       "torch.Size([1, 6, 26, 26])"
      ]
     },
     "execution_count": 10,
     "metadata": {},
     "output_type": "execute_result"
    }
   ],
   "source": [
    "# Pass thru the first conv layer\n",
    "x = F.relu(conv1(x))\n",
    "x.shape  # remember the kernel size of conv1 is (3, 3) and theinput size = (28, 28) --> (28 - 3)/1 + 1 = 26 -> (26 * 26)"
   ]
  },
  {
   "cell_type": "code",
   "execution_count": 11,
   "id": "5df97ffa-4249-4dc7-8cf2-9524d665fde8",
   "metadata": {},
   "outputs": [],
   "source": [
    "x = F.max_pool2d(input=x, kernel_size=2, stride=2) # 26 / 2 = 13"
   ]
  },
  {
   "cell_type": "code",
   "execution_count": 12,
   "id": "89aa3624-2c06-4966-bba2-0da6b8eec22f",
   "metadata": {},
   "outputs": [
    {
     "data": {
      "text/plain": [
       "torch.Size([1, 6, 13, 13])"
      ]
     },
     "execution_count": 12,
     "metadata": {},
     "output_type": "execute_result"
    }
   ],
   "source": [
    "x.shape"
   ]
  },
  {
   "cell_type": "code",
   "execution_count": 13,
   "id": "c45faa55-e35d-41e6-b4e1-6363ccc6dd05",
   "metadata": {},
   "outputs": [],
   "source": [
    "# Pass thru the second conv layer\n",
    "x = F.relu(conv2(x))"
   ]
  },
  {
   "cell_type": "code",
   "execution_count": 14,
   "id": "19da0cef-4b4c-48d0-8912-b59c27dc5e0d",
   "metadata": {},
   "outputs": [
    {
     "data": {
      "text/plain": [
       "torch.Size([1, 16, 11, 11])"
      ]
     },
     "execution_count": 14,
     "metadata": {},
     "output_type": "execute_result"
    }
   ],
   "source": [
    "x.shape  # (13 - 3)/1 + 1 = 11, also there are 16 kernels, so the output has 16 channels"
   ]
  },
  {
   "cell_type": "code",
   "execution_count": 15,
   "id": "aa5dbdbf-df39-425a-bdbd-de85609f9549",
   "metadata": {},
   "outputs": [],
   "source": [
    "# Another pooling layer\n",
    "x = F.max_pool2d(input=x, kernel_size=2, stride=2)"
   ]
  },
  {
   "cell_type": "code",
   "execution_count": 16,
   "id": "4f887c43-0d83-4700-8fef-a80b58276c58",
   "metadata": {},
   "outputs": [
    {
     "data": {
      "text/plain": [
       "torch.Size([1, 16, 5, 5])"
      ]
     },
     "execution_count": 16,
     "metadata": {},
     "output_type": "execute_result"
    }
   ],
   "source": [
    "x.shape  # 11 / 2 = 5.5 but we can't invert data, so we round down the size"
   ]
  },
  {
   "cell_type": "markdown",
   "id": "c433b966-e212-4b48-8c31-9c84bfe62022",
   "metadata": {},
   "source": [
    "### Explanation of Size Reduction from (1, 28, 28) to (16, 5, 5):\n",
    "# $$\n",
    "    \\frac{(\\frac{(\\frac{(\\frac{(28 - 3)}{1} + 1)}{2}) - 3}{1} + 1)}{2} = 5.5 \\sim \\lfloor 5.5 \\rfloor = 5\n",
    "$$"
   ]
  },
  {
   "cell_type": "markdown",
   "id": "003e8605-df7c-4f9f-8cec-c311ce40f7b2",
   "metadata": {},
   "source": [
    "## Building the CNN Model"
   ]
  },
  {
   "cell_type": "code",
   "execution_count": 17,
   "id": "835ba793-04ee-4b69-905b-36775a793b26",
   "metadata": {},
   "outputs": [],
   "source": [
    "# Much better structured way for building a Pytorch Model\n",
    "# Class Model\n",
    "class CNN_Model(nn.Module):\n",
    "    def __init__(self):\n",
    "        super().__init__()\n",
    "\n",
    "        self.conv1 = nn.Conv2d(in_channels=1, out_channels=6, kernel_size=3, stride=1)\n",
    "        self.conv2 = nn.Conv2d(6, 16, 3)\n",
    "        \n",
    "        # after conv2 the shape will become (16, 5, 5) -> so the FC layer should have 16 * 5 * 5 neurons\n",
    "        self.fc1 = nn.Linear(in_features=5 * 5 * 16, out_features=128)\n",
    "        self.fc2 = nn.Linear(in_features=128, out_features=64)\n",
    "        self.out = nn.Linear(in_features=64, out_features=10)\n",
    "\n",
    "    def forward(self, X):\n",
    "        # First pass\n",
    "        X = F.relu(self.conv1(X))\n",
    "        X = F.max_pool2d(X, kernel_size=2)  # default stride is kernel_size which here is 2.\n",
    "\n",
    "        # Second conv block\n",
    "        X = F.relu(self.conv2(X))\n",
    "        X = F.max_pool2d(X, kernel_size=2, stride=2)\n",
    "\n",
    "        # Re-View to flatten it out\n",
    "        X = X.view(-1, (16 * 5 * 5))  # -1 because of variying batch sizes\n",
    "\n",
    "        # Fully Connected Layers\n",
    "\n",
    "        X = F.relu(self.fc1(X))\n",
    "        X = F.relu(self.fc2(X))\n",
    "        X = self.out(X)\n",
    "\n",
    "        return F.log_softmax(X, dim=1)\n",
    "        "
   ]
  },
  {
   "cell_type": "code",
   "execution_count": 18,
   "id": "0ce2a208-b9c3-441d-b4b5-dc1578c5613c",
   "metadata": {},
   "outputs": [
    {
     "data": {
      "text/plain": [
       "<torch._C.Generator at 0x12f43cdd0>"
      ]
     },
     "execution_count": 18,
     "metadata": {},
     "output_type": "execute_result"
    }
   ],
   "source": [
    "# Create an Instance of our Model\n",
    "torch.manual_seed(42)"
   ]
  },
  {
   "cell_type": "code",
   "execution_count": 19,
   "id": "23d11e60-5453-4858-9a53-53f92b4ee502",
   "metadata": {},
   "outputs": [
    {
     "data": {
      "text/plain": [
       "CNN_Model(\n",
       "  (conv1): Conv2d(1, 6, kernel_size=(3, 3), stride=(1, 1))\n",
       "  (conv2): Conv2d(6, 16, kernel_size=(3, 3), stride=(1, 1))\n",
       "  (fc1): Linear(in_features=400, out_features=128, bias=True)\n",
       "  (fc2): Linear(in_features=128, out_features=64, bias=True)\n",
       "  (out): Linear(in_features=64, out_features=10, bias=True)\n",
       ")"
      ]
     },
     "execution_count": 19,
     "metadata": {},
     "output_type": "execute_result"
    }
   ],
   "source": [
    "model = CNN_Model()\n",
    "model"
   ]
  },
  {
   "cell_type": "code",
   "execution_count": 20,
   "id": "8d0ada69-3aa0-49bb-9c76-9ac38fa5c14e",
   "metadata": {},
   "outputs": [],
   "source": [
    "# Define Loss function and Optimizer\n",
    "\n",
    "# Loss function:\n",
    "criterion = nn.CrossEntropyLoss()\n",
    "\n",
    "# Optimizer\n",
    "optimizer = torch.optim.Adam(model.parameters(), lr=3e-4)"
   ]
  },
  {
   "cell_type": "markdown",
   "id": "ad6adb25-6232-479d-b150-5f35f1f97708",
   "metadata": {},
   "source": [
    "### Training the CNN Model"
   ]
  },
  {
   "cell_type": "code",
   "execution_count": 21,
   "id": "9b58550f-3da5-4f0b-a866-e69d9c1c0fa7",
   "metadata": {},
   "outputs": [],
   "source": [
    "# # Keep it commented, unless you want to retrain the CNN model\n",
    "\n",
    "# import time\n",
    "\n",
    "# tik = time.time()  # start timing the model training process\n",
    "\n",
    "# # Create variables to track things\n",
    "# epochs = 5\n",
    "# train_losses = []\n",
    "# test_losses = []\n",
    "# num_train_correct = []\n",
    "# num_test_correct = []\n",
    "\n",
    "# # For Loop of epochs\n",
    "# for epoch in range(epochs):\n",
    "#     trn_corr = 0\n",
    "#     tst_corr =0\n",
    "    \n",
    "\n",
    "#     # Train\n",
    "#     for batch_num, (X_train, y_train) in enumerate(train_loader):\n",
    "#         batch_num += 1  # start our batches at 1, each batch contains 10 images\n",
    "\n",
    "#         y_pred = model(X_train)  # or: model.forward(X_train), y_pred is not flattend\n",
    "#         loss = criterion(y_pred, y_train)  # how off are we? compare the predictions to the correct answers in y_train\n",
    "\n",
    "#         predicted_digit = torch.max(y_pred.data, 1)[1]  # add up the number of correct predictions.\n",
    "#         num_batch_corr = (predicted_digit == y_train).sum()  # how many we got correct from this batch.\n",
    "#         trn_corr += num_batch_corr\n",
    "\n",
    "#         # Update parameters\n",
    "#         optimizer.zero_grad()\n",
    "#         loss.backward()\n",
    "#         optimizer.step()\n",
    "         \n",
    "\n",
    "#     # Print out some results\n",
    "#         if batch_num % 600 == 0:\n",
    "#             print(f'Epoch: {epoch:4},  Batch: {batch_num:6}, loss:{loss.item():.6f}')\n",
    "\n",
    "#     train_losses.append(loss)\n",
    "#     num_train_correct.append(trn_corr)\n",
    "\n",
    "\n",
    "\n",
    "#     # Test\n",
    "#     with torch.no_grad():  # We don't want to update weights and biases with test set\n",
    "        \n",
    "#         for batch_num, (X_test, y_test) in enumerate(test_loader):\n",
    "#             y_pred = model(X_test)\n",
    "\n",
    "#             predicted_digit = torch.max(y_pred.data, 1)[1]  # Adding up correct predictions\n",
    "#             tst_corr += (predicted_digit == y_test).sum()\n",
    "\n",
    "\n",
    "#         loss = criterion(y_pred, y_test)\n",
    "#         test_losses.append(loss)\n",
    "#         num_test_correct.append(tst_corr)\n",
    "\n",
    "\n",
    "# tok = time.time()  # end timing the model training process\n",
    "\n",
    "# total_time = tok - tik\n",
    "# print(f\"Total Training Time: {total_time / 60:6.4f} minutes!!!\")"
   ]
  },
  {
   "cell_type": "markdown",
   "id": "49854395-3e73-47d4-a2ae-1b984bff4990",
   "metadata": {},
   "source": [
    "#### Save the CNN Model and It's Metrics"
   ]
  },
  {
   "cell_type": "code",
   "execution_count": 22,
   "id": "e01e9dae-17f0-4c50-bbfa-41cc9e59b59e",
   "metadata": {},
   "outputs": [],
   "source": [
    "# data_to_save = {\n",
    "#     'model_state_dict': model.state_dict(),\n",
    "#     'train_losses': train_losses,\n",
    "#     'test_losses': test_losses,\n",
    "#     'num_train_correct': num_train_correct,\n",
    "#     'num_test_correct': num_test_correct\n",
    "# }\n",
    "\n",
    "# torch.save(data_to_save, 'CNN_Model_and_Metrics_MNIST.pt')"
   ]
  },
  {
   "cell_type": "markdown",
   "id": "b56819fb-e1f3-4862-8417-25202f9bbfe3",
   "metadata": {},
   "source": [
    "### Load the CNN Model and It's Metrics"
   ]
  },
  {
   "cell_type": "code",
   "execution_count": 23,
   "id": "76149f05-3610-4406-be8a-d35cf2bb27f4",
   "metadata": {},
   "outputs": [
    {
     "name": "stdout",
     "output_type": "stream",
     "text": [
      "dict_keys(['model_state_dict', 'train_losses', 'test_losses', 'num_train_correct', 'num_test_correct'])\n"
     ]
    },
    {
     "data": {
      "text/plain": [
       "<All keys matched successfully>"
      ]
     },
     "execution_count": 23,
     "metadata": {},
     "output_type": "execute_result"
    }
   ],
   "source": [
    "loaded_data = torch.load('CNN_Model_and_Metrics_MNIST.pt', weights_only=True)\n",
    "print(loaded_data.keys())\n",
    "\n",
    "model_state_dict, train_losses, test_losses, num_train_correct, num_test_correct = (\n",
    "    loaded_data['model_state_dict'],\n",
    "    loaded_data['train_losses'],\n",
    "    loaded_data['test_losses'],\n",
    "    loaded_data['num_train_correct'],\n",
    "    loaded_data['num_test_correct']\n",
    ")\n",
    "\n",
    "model.load_state_dict(model_state_dict)"
   ]
  },
  {
   "cell_type": "markdown",
   "id": "36107a31-4dd2-4dac-aaf1-876158367508",
   "metadata": {},
   "source": [
    "### Graph the CNN Model Evaluation"
   ]
  },
  {
   "cell_type": "code",
   "execution_count": 24,
   "id": "eca7c35e-b043-452d-82f0-cde445463dc9",
   "metadata": {},
   "outputs": [
    {
     "name": "stdout",
     "output_type": "stream",
     "text": [
      "[0.07828047126531601, 0.14917543530464172, 0.009517979808151722, 0.0049559809267520905, 0.011776838451623917]\n",
      "\n",
      "[tensor(0.0783, requires_grad=True), tensor(0.1492, requires_grad=True), tensor(0.0095, requires_grad=True), tensor(0.0050, requires_grad=True), tensor(0.0118, requires_grad=True)]\n"
     ]
    },
    {
     "data": {
      "image/png": "[encoded data removed]",
      "text/plain": [
       "<Figure size 640x480 with 1 Axes>"
      ]
     },
     "metadata": {},
     "output_type": "display_data"
    }
   ],
   "source": [
    "# Plot Training Loss over Epochs\n",
    "\n",
    "# Convert train_losses as a list of tensors to list of loss items\n",
    "train_losses_list = [t_loss.item() for t_loss in train_losses]\n",
    "print(train_losses_list, train_losses, sep='\\n\\n')\n",
    "\n",
    "plt.plot(train_losses_list, label='Training Loss')\n",
    "plt.plot(test_losses, label='Validation Loss')\n",
    "\n",
    "plt.title(\"Loss at Epoch\")\n",
    "plt.legend();\n",
    "## Note: very strange loss you can ever see, validation loss was almost 0 at the beginning."
   ]
  },
  {
   "cell_type": "code",
   "execution_count": 25,
   "id": "ffad6d69-bdef-40ed-a5bc-e4565405d2bf",
   "metadata": {},
   "outputs": [
    {
     "data": {
      "text/plain": [
       "<matplotlib.legend.Legend at 0x14fedaa80>"
      ]
     },
     "execution_count": 25,
     "metadata": {},
     "output_type": "execute_result"
    },
    {
     "data": {
      "image/png": "[encoded data removed]",
      "text/plain": [
       "<Figure size 640x480 with 1 Axes>"
      ]
     },
     "metadata": {},
     "output_type": "display_data"
    }
   ],
   "source": [
    "# Plot Models Accuracy at Training and Test sets\n",
    "\n",
    "plt.plot([t / 600 for t in num_train_correct], label='Training Accuracy')\n",
    "plt.plot([t / 100 for t in num_test_correct], label='Test Accuracy')\n",
    "\n",
    "plt.legend()"
   ]
  },
  {
   "cell_type": "code",
   "execution_count": 26,
   "id": "3b214df5-c196-4c2c-b7d9-a75b5db88630",
   "metadata": {},
   "outputs": [
    {
     "name": "stdout",
     "output_type": "stream",
     "text": [
      "tensor(98.7800)\n"
     ]
    }
   ],
   "source": [
    "# Validation on Test Set\n",
    "\n",
    "test_load_whole = DataLoader(test_data, batch_size=10000,\n",
    "                             shuffle=False)\n",
    "\n",
    "with torch.no_grad():\n",
    "    test_accuracy = 0.\n",
    "    \n",
    "    for X_test, y_test in test_load_whole:\n",
    "        y_pred = model(X_test).max(1)[1]\n",
    "        test_accuracy += (y_pred == y_test).sum()\n",
    "        test_accuracy /= 100\n",
    "        print(test_accuracy)"
   ]
  },
  {
   "cell_type": "markdown",
   "id": "3780c54d-bcfe-4216-8465-d6992c37eb4c",
   "metadata": {},
   "source": [
    "## Test Model on a New Image"
   ]
  },
  {
   "cell_type": "code",
   "execution_count": 27,
   "id": "b5d86530-e6a0-406c-88e9-6aa4efe7d96a",
   "metadata": {},
   "outputs": [
    {
     "data": {
      "text/plain": [
       "<matplotlib.image.AxesImage at 0x14cd37a10>"
      ]
     },
     "execution_count": 27,
     "metadata": {},
     "output_type": "execute_result"
    },
    {
     "data": {
      "image/png": "[encoded data removed]",
      "text/plain": [
       "<Figure size 640x480 with 1 Axes>"
      ]
     },
     "metadata": {},
     "output_type": "display_data"
    }
   ],
   "source": [
    "# A single image of MNIST dataset\n",
    "plt.imshow(test_data[4001][0].reshape(28, 28), cmap='Greys')"
   ]
  },
  {
   "cell_type": "code",
   "execution_count": 28,
   "id": "93b31181-7d88-4ae9-87a5-d430d611204c",
   "metadata": {},
   "outputs": [
    {
     "name": "stdout",
     "output_type": "stream",
     "text": [
      "1st Approach:  Predicted digit: 4, True Label: 4\n",
      "2nd Approach:  Predicted digit: 4, True Label: 4\n"
     ]
    }
   ],
   "source": [
    "# Let model predict the digit\n",
    "# Always use torch.no_grad() for inference and making predictions, becuase it doesn't lead to increased memory usage and slower performace when using without it\n",
    "\n",
    "with torch.no_grad():\n",
    "    print(f'1st Approach:  Predicted digit: {model(test_data[4001][0]).max(1)[1].item()}, True Label: {test_data[4001][1]}')\n",
    "## .max(1)[1]: calculates maximum along each row (column based) and then it gives us the value of the maximum prediction and it's index in a tuple,\n",
    "## [1] is used to select the second value of the tuple which is the index of the maximum log-probability which indicated the digit it has predicted.\n",
    "\n",
    "## the other approach is using .argmax() instead of max()[1], but it doens't provide log-probability anymore.\n",
    "    print(f'2nd Approach:  Predicted digit: {model(test_data[4001][0]).argmax(1).item()}, True Label: {test_data[4001][1]}')"
   ]
  }
 ],
 "metadata": {
  "kernelspec": {
   "display_name": "Python 3 (ipykernel)",
   "language": "python",
   "name": "python3"
  },
  "language_info": {
   "codemirror_mode": {
    "name": "ipython",
    "version": 3
   },
   "file_extension": ".py",
   "mimetype": "text/x-python",
   "name": "python",
   "nbconvert_exporter": "python",
   "pygments_lexer": "ipython3",
   "version": "3.12.4"
  }
 },
 "nbformat": 4,
 "nbformat_minor": 5
}
